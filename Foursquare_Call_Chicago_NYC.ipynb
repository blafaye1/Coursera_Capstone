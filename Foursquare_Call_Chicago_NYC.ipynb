{
 "cells": [
  {
   "cell_type": "code",
   "execution_count": 15,
   "id": "a3fc988a",
   "metadata": {},
   "outputs": [],
   "source": [
    "import numpy as np\n",
    "import pandas as pd\n",
    "import requests\n",
    "import json\n",
    "import folium\n",
    "from bs4 import BeautifulSoup\n",
    "from geopy.geocoders import Nominatim\n",
    "import time\n",
    "import math"
   ]
  },
  {
   "cell_type": "markdown",
   "id": "c0293ecb",
   "metadata": {},
   "source": [
    "Load hardcoded variables and secrets"
   ]
  },
  {
   "cell_type": "code",
   "execution_count": 2,
   "id": "5eae4d46",
   "metadata": {},
   "outputs": [],
   "source": [
    "with open('variables/city_centers.json') as f_in:\n",
    "    city_centers = json.load(f_in)\n",
    "\n",
    "sf_lat = city_centers['sf'][0]\n",
    "sf_lon = city_centers['sf'][1]\n",
    "chicago_lat = city_centers['chicago'][0]\n",
    "chicago_lon = city_centers['chicago'][1]\n",
    "nyc_lat = city_centers['nyc'][0]\n",
    "nyc_lon = city_centers['nyc'][1]"
   ]
  },
  {
   "cell_type": "code",
   "execution_count": 3,
   "id": "89cc7c14",
   "metadata": {},
   "outputs": [],
   "source": [
    "with open('secrets/foursquare_secrets.json') as f_in: # Load foursquare API credentials\n",
    "    fsq_secrets = json.load(f_in)\n",
    "\n",
    "CLIENT_SECRET = fsq_secrets['CLIENT_SECRET']\n",
    "CLIENT_ID = fsq_secrets['CLIENT_ID']\n",
    "VERSION = '20180605'"
   ]
  },
  {
   "cell_type": "code",
   "execution_count": 4,
   "id": "682cd7db",
   "metadata": {},
   "outputs": [],
   "source": [
    "with open('variables/fsq_categories.json') as f_in:\n",
    "    fsq_categories = json.load(f_in)"
   ]
  },
  {
   "cell_type": "code",
   "execution_count": 5,
   "id": "eadb7d67",
   "metadata": {},
   "outputs": [],
   "source": [
    "with open('json_data/nyc_venues_results.json') as f_in:\n",
    "    fsq_results_list_nyc = json.load(f_in)"
   ]
  },
  {
   "cell_type": "markdown",
   "id": "822f4fdc",
   "metadata": {},
   "source": [
    "Load data"
   ]
  },
  {
   "cell_type": "code",
   "execution_count": 6,
   "id": "fd391139",
   "metadata": {},
   "outputs": [],
   "source": [
    "keep_chicago_df = (pd.read_csv(\"csv_data/final_grid_chicago.csv\")\n",
    "                   .drop(columns = ['Unnamed: 0'])\n",
    "                   .rename(columns = {'0': 'latitude', '1': 'longitude'}))\n",
    "\n",
    "keep_nyc_df = (pd.read_csv(\"csv_data/final_grid_nyc.csv\")\n",
    "                   .drop(columns = ['Unnamed: 0'])\n",
    "                   .rename(columns = {'0': 'latitude', '1': 'longitude'}))"
   ]
  },
  {
   "cell_type": "markdown",
   "id": "1d75c8f9",
   "metadata": {},
   "source": [
    "Analysis"
   ]
  },
  {
   "cell_type": "code",
   "execution_count": 7,
   "id": "d653023e",
   "metadata": {},
   "outputs": [],
   "source": [
    "def get_nearby_venues(lat, lon, category_ids, radius = 500, LIMIT = 100):\n",
    "    # Foursquare API url for venue queries\n",
    "    base_url = \"https://api.foursquare.com/v2/venues/explore\"\n",
    "    \n",
    "    # Set up query parameters\n",
    "    params = {\n",
    "        'client_id': CLIENT_ID,\n",
    "        'client_secret': CLIENT_SECRET,\n",
    "        'v': VERSION,\n",
    "        'll': '',\n",
    "        'categoryId': '',\n",
    "        'radius': radius,\n",
    "        'limit': LIMIT\n",
    "    }\n",
    "\n",
    "    params['ll'] = str(lat) + ',' + str(lon) # Update latitude and longitude\n",
    "    params['categoryId'] = ','.join(category_ids)\n",
    "    query = requests.get(base_url, params = params)\n",
    "    \n",
    "    return query"
   ]
  },
  {
   "cell_type": "code",
   "execution_count": 10,
   "id": "2c8725b4",
   "metadata": {},
   "outputs": [
    {
     "name": "stdout",
     "output_type": "stream",
     "text": [
      "595\n"
     ]
    }
   ],
   "source": [
    "print(len(keep_chicago_df))"
   ]
  },
  {
   "cell_type": "code",
   "execution_count": 8,
   "id": "7f9d5978",
   "metadata": {},
   "outputs": [
    {
     "name": "stdout",
     "output_type": "stream",
     "text": [
      "1036\n"
     ]
    }
   ],
   "source": [
    "print(len(keep_nyc_df))"
   ]
  },
  {
   "cell_type": "code",
   "execution_count": 12,
   "id": "7bff264d",
   "metadata": {},
   "outputs": [],
   "source": [
    "fsq_results_list_chicago = []\n",
    "\n",
    "for lat, lon in zip(keep_chicago_df['latitude'], keep_chicago_df['longitude']):\n",
    "    query = get_nearby_venues(lat, lon, [fsq_categories['Food & Drink Shop']], radius = 750)\n",
    "    if query.status_code != 200:\n",
    "        break\n",
    "    fsq_results_list_chicago.append(query.json())"
   ]
  },
  {
   "cell_type": "code",
   "execution_count": 15,
   "id": "ca9e5921",
   "metadata": {},
   "outputs": [],
   "source": [
    "with open('json_data/chicago_venues_results.json', 'w') as f_out:\n",
    "    json.dump(fsq_results_list_chicago, f_out)"
   ]
  },
  {
   "cell_type": "code",
   "execution_count": 20,
   "id": "5ed09cea",
   "metadata": {},
   "outputs": [
    {
     "name": "stdout",
     "output_type": "stream",
     "text": [
      "0\n",
      "50\n",
      "100\n",
      "150\n",
      "200\n",
      "250\n",
      "300\n",
      "350\n"
     ]
    }
   ],
   "source": [
    "# fsq_results_list_nyc = []\n",
    "\n",
    "# for i, (lat, lon) in enumerate(zip(keep_nyc_df['latitude'], keep_nyc_df['longitude'])):\n",
    "#     if i % 50 == 0:\n",
    "#         print(i)\n",
    "#     query = get_nearby_venues(lat, lon, [fsq_categories['Food & Drink Shop']], radius = 750)\n",
    "#     if query.status_code != 200:\n",
    "#         break\n",
    "#     fsq_results_list_nyc.append(query.json())"
   ]
  },
  {
   "cell_type": "code",
   "execution_count": 25,
   "id": "a3156489",
   "metadata": {},
   "outputs": [
    {
     "data": {
      "text/plain": [
       "'{\"meta\":{\"code\":429,\"errorType\":\"quota_exceeded\",\"errorDetail\":\"Quota exceeded\",\"requestId\":\"60ba86a144d5ef55c6a6bd3b\"},\"response\":{}}'"
      ]
     },
     "execution_count": 25,
     "metadata": {},
     "output_type": "execute_result"
    }
   ],
   "source": [
    "query.text"
   ]
  },
  {
   "cell_type": "code",
   "execution_count": 28,
   "id": "88a36c30",
   "metadata": {},
   "outputs": [
    {
     "data": {
      "text/plain": [
       "354"
      ]
     },
     "execution_count": 28,
     "metadata": {},
     "output_type": "execute_result"
    }
   ],
   "source": [
    "len(fsq_results_list_nyc)"
   ]
  },
  {
   "cell_type": "code",
   "execution_count": 27,
   "id": "d9d96d35",
   "metadata": {},
   "outputs": [],
   "source": [
    "with open('json_data/nyc_venues_results.json', 'w') as f_out:\n",
    "    json.dump(fsq_results_list_nyc, f_out)"
   ]
  },
  {
   "cell_type": "markdown",
   "id": "823f9bc5",
   "metadata": {},
   "source": [
    "Run after 1:00pm Jun 5\n",
    "\n",
    "Load _fsq_results_list_nyc_ above first"
   ]
  },
  {
   "cell_type": "code",
   "execution_count": 9,
   "id": "c81b5851",
   "metadata": {},
   "outputs": [],
   "source": [
    "starting_point = len(fsq_results_list_nyc)\n",
    "assert(starting_point == 354)"
   ]
  },
  {
   "cell_type": "code",
   "execution_count": 10,
   "id": "b76897e7",
   "metadata": {},
   "outputs": [
    {
     "name": "stdout",
     "output_type": "stream",
     "text": [
      "682\n"
     ]
    }
   ],
   "source": [
    "print(len(keep_nyc_df) - starting_point)"
   ]
  },
  {
   "cell_type": "code",
   "execution_count": 11,
   "id": "453b90e0",
   "metadata": {},
   "outputs": [
    {
     "name": "stdout",
     "output_type": "stream",
     "text": [
      "0\n",
      "50\n",
      "100\n",
      "150\n",
      "200\n",
      "250\n",
      "300\n",
      "350\n",
      "400\n",
      "450\n",
      "500\n",
      "550\n",
      "600\n",
      "650\n"
     ]
    }
   ],
   "source": [
    "df_to_query = keep_nyc_df.loc[starting_point:]\n",
    "for i, (lat, lon) in enumerate(zip(df_to_query['latitude'], df_to_query['longitude'])):\n",
    "    if i % 50 == 0:\n",
    "        print(i)\n",
    "    query = get_nearby_venues(lat, lon, [fsq_categories['Food & Drink Shop']], radius = 750)\n",
    "    if query.status_code != 200:\n",
    "        break\n",
    "    fsq_results_list_nyc.append(query.json())"
   ]
  },
  {
   "cell_type": "code",
   "execution_count": 14,
   "id": "1495a93e",
   "metadata": {},
   "outputs": [
    {
     "name": "stdout",
     "output_type": "stream",
     "text": [
      "1036\n"
     ]
    }
   ],
   "source": [
    "print(len(fsq_results_list_nyc))"
   ]
  },
  {
   "cell_type": "code",
   "execution_count": 13,
   "id": "651cfd6e",
   "metadata": {},
   "outputs": [],
   "source": [
    "with open('json_data/nyc_venues_results.json', 'w') as f_out:\n",
    "    json.dump(fsq_results_list_nyc, f_out)"
   ]
  },
  {
   "cell_type": "markdown",
   "id": "e7701d3c",
   "metadata": {},
   "source": [
    "Define functions to calculate distance between latitude/longitude points"
   ]
  },
  {
   "cell_type": "code",
   "execution_count": 17,
   "id": "b479879f",
   "metadata": {},
   "outputs": [],
   "source": [
    "def deg2rad(deg):\n",
    "    return deg * math.pi / 180"
   ]
  },
  {
   "cell_type": "code",
   "execution_count": 37,
   "id": "4fce8318",
   "metadata": {},
   "outputs": [],
   "source": [
    "def kil2mil(km):\n",
    "    return km * 0.621371"
   ]
  },
  {
   "cell_type": "code",
   "execution_count": 31,
   "id": "66db99bc",
   "metadata": {},
   "outputs": [],
   "source": [
    "# Returns (approximate) distance in kilometers or miles.\n",
    "def calc_dist_latlon(lat_1, lon_1, lat_2, lon_2, unit = 'km'):\n",
    "    r_earth = 6371 # avg radius of Earth in km\n",
    "    d_lat = deg2rad(lat_2 - lat_1)\n",
    "    d_lon = deg2rad(lon_2 - lon_1)\n",
    "    \n",
    "#     a = ((math.sin(d_lat/2))**2 + \n",
    "#          (math.sin(d_lon/2))**2 + \n",
    "#          (math.cos(deg2rad(lat_1)) * math.cos(deg2rad(lat_2))))\n",
    "    \n",
    "#     print(math.cos(deg2rad(lat_1)))\n",
    "#     print(math.cos(deg2rad(lat_2)))\n",
    "#     print(a)\n",
    "\n",
    "    a = ((math.sin(d_lat/2) * math.sin(d_lat/2)) + \n",
    "         (math.cos(deg2rad(lat_1)) * math.cos(deg2rad(lat_2)) * \n",
    "         math.sin(d_lon/2) * math.sin(d_lon/2)))\n",
    "    \n",
    "    c = 2 * math.atan2(math.sqrt(a), math.sqrt(1 - a))\n",
    "    d = r_earth * c\n",
    "    \n",
    "    if unit == 'km':\n",
    "        return d\n",
    "    elif unit == 'mi':\n",
    "        return kil2mil(d)\n",
    "    else:\n",
    "        print(\"Units not recognized.\")\n",
    "        return 0"
   ]
  },
  {
   "cell_type": "code",
   "execution_count": 24,
   "id": "6865f6b2",
   "metadata": {
    "collapsed": true
   },
   "outputs": [
    {
     "data": {
      "text/plain": [
       "{'meta': {'code': 200, 'requestId': '60ba8617795c990530d2b4ff'},\n",
       " 'response': {'warning': {'text': \"There aren't a lot of results near you. Try something more general, reset your filters, or expand the search area.\"},\n",
       "  'headerLocation': 'Current map view',\n",
       "  'headerFullLocation': 'Current map view',\n",
       "  'headerLocationGranularity': 'unknown',\n",
       "  'query': 'food drink',\n",
       "  'totalResults': 0,\n",
       "  'suggestedBounds': {'ne': {'lat': 40.504596406750004,\n",
       "    'lng': -74.24095881238445},\n",
       "   'sw': {'lat': 40.49109639325, 'lng': -74.25867878761555}},\n",
       "  'groups': [{'type': 'Recommended Places',\n",
       "    'name': 'recommended',\n",
       "    'items': []}]}}"
      ]
     },
     "execution_count": 24,
     "metadata": {},
     "output_type": "execute_result"
    }
   ],
   "source": [
    "fsq_results_list_nyc[0]"
   ]
  },
  {
   "cell_type": "code",
   "execution_count": 25,
   "id": "1a319659",
   "metadata": {},
   "outputs": [],
   "source": [
    "lat_1 = 40.504596406750004\n",
    "lat_2 = 40.49109639325\n",
    "lon_1 = -74.24095881238445\n",
    "lon_2 = -74.25867878761555"
   ]
  },
  {
   "cell_type": "code",
   "execution_count": 34,
   "id": "6e485b54",
   "metadata": {},
   "outputs": [
    {
     "data": {
      "text/plain": [
       "2.1209417094572642"
      ]
     },
     "execution_count": 34,
     "metadata": {},
     "output_type": "execute_result"
    }
   ],
   "source": [
    "calc_dist_latlon(lat_1, lon_1, lat_2, lon_2)"
   ]
  },
  {
   "cell_type": "code",
   "execution_count": 33,
   "id": "9892e74e",
   "metadata": {},
   "outputs": [
    {
     "name": "stdout",
     "output_type": "stream",
     "text": [
      "37.7749\n",
      "-122.4194\n",
      "40.73061\n",
      "-73.935242\n"
     ]
    }
   ],
   "source": [
    "print(sf_lat)\n",
    "print(sf_lon)\n",
    "print(nyc_lat)\n",
    "print(nyc_lon)"
   ]
  },
  {
   "cell_type": "code",
   "execution_count": 38,
   "id": "fc801edd",
   "metadata": {},
   "outputs": [
    {
     "data": {
      "text/plain": [
       "2569.0739969635174"
      ]
     },
     "execution_count": 38,
     "metadata": {},
     "output_type": "execute_result"
    }
   ],
   "source": [
    "calc_dist_latlon(sf_lat, sf_lon, nyc_lat, nyc_lon, 'mi')"
   ]
  },
  {
   "cell_type": "code",
   "execution_count": null,
   "id": "327a47f3",
   "metadata": {},
   "outputs": [],
   "source": []
  }
 ],
 "metadata": {
  "kernelspec": {
   "display_name": "Python 3",
   "language": "python",
   "name": "python3"
  },
  "language_info": {
   "codemirror_mode": {
    "name": "ipython",
    "version": 3
   },
   "file_extension": ".py",
   "mimetype": "text/x-python",
   "name": "python",
   "nbconvert_exporter": "python",
   "pygments_lexer": "ipython3",
   "version": "3.9.5"
  }
 },
 "nbformat": 4,
 "nbformat_minor": 5
}
