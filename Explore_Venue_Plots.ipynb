{
 "cells": [
  {
   "cell_type": "code",
   "execution_count": 351,
   "id": "2c7fd93f",
   "metadata": {},
   "outputs": [],
   "source": [
    "import numpy as np\n",
    "import pandas as pd\n",
    "import requests\n",
    "import json\n",
    "import folium\n",
    "from bs4 import BeautifulSoup\n",
    "from geopy.geocoders import Nominatim\n",
    "import time\n",
    "import math\n",
    "from bokeh.io import output_file, show\n",
    "from bokeh.plotting import figure\n",
    "from bokeh.models import ColumnDataSource, GeoJSONDataSource, HoverTool, Slider, CustomJS\n",
    "from bokeh.tile_providers import ESRI_IMAGERY, get_provider\n",
    "from bokeh.layouts import column\n",
    "import geopandas as gpd\n",
    "from pyproj import Transformer, CRS\n",
    "from shapely.ops import transform\n",
    "from scipy.optimize import minimize_scalar"
   ]
  },
  {
   "cell_type": "code",
   "execution_count": 14,
   "id": "6680dc63",
   "metadata": {},
   "outputs": [],
   "source": [
    "with open('variables/city_centers.json') as f_in:\n",
    "    city_centers = json.load(f_in)\n",
    "\n",
    "sf_lat = city_centers['sf'][0]\n",
    "sf_lon = city_centers['sf'][1]\n",
    "chicago_lat = city_centers['chicago'][0]\n",
    "chicago_lon = city_centers['chicago'][1]\n",
    "nyc_lat = city_centers['nyc'][0]\n",
    "nyc_lon = city_centers['nyc'][1]"
   ]
  },
  {
   "cell_type": "code",
   "execution_count": 2,
   "id": "26c6c4a2",
   "metadata": {},
   "outputs": [],
   "source": [
    "with open('json_data/sf_venues_results.json') as f_in: \n",
    "    sf_venues_results = json.load(f_in)\n",
    "with open('json_data/chicago_venues_results.json') as f_in:\n",
    "    chicago_venues_results = json.load(f_in)\n",
    "with open('json_data/nyc_venues_results.json') as f_in:\n",
    "    nyc_venues_results = json.load(f_in)"
   ]
  },
  {
   "cell_type": "code",
   "execution_count": 176,
   "id": "ce6eb3db",
   "metadata": {},
   "outputs": [],
   "source": [
    "california = gpd.read_file('shape_data/california/california.shp')\n",
    "illinois = gpd.read_file('shape_data/illinois/illinois.shp')\n",
    "new_york = gpd.read_file('shape_data/new_york/new_york.shp')"
   ]
  },
  {
   "cell_type": "code",
   "execution_count": 177,
   "id": "79d8292b",
   "metadata": {},
   "outputs": [],
   "source": [
    "sf_shp = california[california['NAME'] == 'San Francisco']\n",
    "chicago_shp = illinois[illinois['NAME'] == 'Chicago']\n",
    "nyc_shp = new_york[new_york['NAME'] == 'New York']"
   ]
  },
  {
   "cell_type": "code",
   "execution_count": 250,
   "id": "c3c65610",
   "metadata": {},
   "outputs": [],
   "source": [
    "crs_wgs = CRS(\"EPSG:4326\")\n",
    "crs_merc = CRS(\"EPSG:3785\")\n",
    "\n",
    "wgs2merc = Transformer.from_crs(crs_wgs, crs_merc) # Usage: wgs2merc.transform(lat, lon)\n",
    "merc2wgs = Transformer.from_crs(crs_merc, crs_wgs)"
   ]
  },
  {
   "cell_type": "code",
   "execution_count": 258,
   "id": "20b04a75",
   "metadata": {},
   "outputs": [],
   "source": [
    "unique_ids = set()\n",
    "\n",
    "sf_data = {\n",
    "    'latitudes': [],\n",
    "    'longitudes': [],\n",
    "    'x_coords': [],\n",
    "    'y_coords': [],\n",
    "    'labels': []\n",
    "}\n",
    "\n",
    "for i, venue in enumerate(sf_venues_results):\n",
    "    items_list = venue['response']['groups'][0]['items']\n",
    "    for item in items_list:\n",
    "        item_id = item['venue']['id']\n",
    "        if item_id in unique_ids:\n",
    "            continue\n",
    "        else:\n",
    "            unique_ids.add(item_id)\n",
    "            sf_data['latitudes'].append(item['venue']['location']['lat'])\n",
    "            sf_data['longitudes'].append(item['venue']['location']['lng'])\n",
    "            sf_data['labels'].append(item['venue']['categories'][0]['name'])\n",
    "\n",
    "for lat, lon in zip(sf_data['latitudes'], sf_data['longitudes']):\n",
    "    x, y = wgs2merc.transform(lat, lon)\n",
    "    sf_data['x_coords'].append(x)\n",
    "    sf_data['y_coords'].append(y)"
   ]
  },
  {
   "cell_type": "code",
   "execution_count": 261,
   "id": "4ad12213",
   "metadata": {},
   "outputs": [],
   "source": [
    "unique_ids = set()\n",
    "\n",
    "chicago_data = {\n",
    "    'latitudes': [],\n",
    "    'longitudes': [],\n",
    "    'x_coords': [],\n",
    "    'y_coords': [],\n",
    "    'labels': []\n",
    "}\n",
    "\n",
    "for i, venue in enumerate(chicago_venues_results):\n",
    "    items_list = venue['response']['groups'][0]['items']\n",
    "    for item in items_list:\n",
    "        item_id = item['venue']['id']\n",
    "        if item_id in unique_ids:\n",
    "            continue\n",
    "        else:\n",
    "            unique_ids.add(item_id)\n",
    "            chicago_data['latitudes'].append(item['venue']['location']['lat'])\n",
    "            chicago_data['longitudes'].append(item['venue']['location']['lng'])\n",
    "            chicago_data['labels'].append(item['venue']['categories'][0]['name'])\n",
    "\n",
    "for lat, lon in zip(chicago_data['latitudes'], chicago_data['longitudes']):\n",
    "    x, y = wgs2merc.transform(lat, lon)\n",
    "    chicago_data['x_coords'].append(x)\n",
    "    chicago_data['y_coords'].append(y)"
   ]
  },
  {
   "cell_type": "code",
   "execution_count": 262,
   "id": "3c3c8c20",
   "metadata": {},
   "outputs": [],
   "source": [
    "unique_ids = set()\n",
    "\n",
    "nyc_data = {\n",
    "    'latitudes': [],\n",
    "    'longitudes': [],\n",
    "    'x_coords': [],\n",
    "    'y_coords': [],\n",
    "    'labels': []\n",
    "}\n",
    "\n",
    "for i, venue in enumerate(nyc_venues_results):\n",
    "    items_list = venue['response']['groups'][0]['items']\n",
    "    for item in items_list:\n",
    "        item_id = item['venue']['id']\n",
    "        if item_id in unique_ids:\n",
    "            continue\n",
    "        else:\n",
    "            unique_ids.add(item_id)\n",
    "            nyc_data['latitudes'].append(item['venue']['location']['lat'])\n",
    "            nyc_data['longitudes'].append(item['venue']['location']['lng'])\n",
    "            nyc_data['labels'].append(item['venue']['categories'][0]['name'])\n",
    "\n",
    "for lat, lon in zip(nyc_data['latitudes'], nyc_data['longitudes']):\n",
    "    x, y = wgs2merc.transform(lat, lon)\n",
    "    nyc_data['x_coords'].append(x)\n",
    "    nyc_data['y_coords'].append(y)"
   ]
  },
  {
   "cell_type": "code",
   "execution_count": null,
   "id": "f0f7fc3f",
   "metadata": {},
   "outputs": [],
   "source": []
  },
  {
   "cell_type": "code",
   "execution_count": 269,
   "id": "cbd5bf1b",
   "metadata": {},
   "outputs": [],
   "source": [
    "main_shape = sf_shp.iloc[0]['geometry'][3]"
   ]
  },
  {
   "cell_type": "code",
   "execution_count": 274,
   "id": "b9f65001",
   "metadata": {},
   "outputs": [],
   "source": [
    "chicago_poly = {\n",
    "    'x': [],\n",
    "    'y': []\n",
    "}\n",
    "for point in chicago_shp.iloc[0]['geometry'].exterior.coords:\n",
    "    new_coords = wgs2merc.transform(point[1], point[0])\n",
    "    chicago_poly['x'].append(new_coords[0])\n",
    "    chicago_poly['y'].append(new_coords[1])"
   ]
  },
  {
   "cell_type": "code",
   "execution_count": 281,
   "id": "a261b74b",
   "metadata": {},
   "outputs": [
    {
     "data": {
      "text/plain": [
       "-9789447.263629049"
      ]
     },
     "execution_count": 281,
     "metadata": {},
     "output_type": "execute_result"
    }
   ],
   "source": [
    "chicago_poly['x'][0]"
   ]
  },
  {
   "cell_type": "markdown",
   "id": "a6ea0597",
   "metadata": {},
   "source": [
    " "
   ]
  },
  {
   "cell_type": "markdown",
   "id": "7953322f",
   "metadata": {},
   "source": [
    " "
   ]
  },
  {
   "cell_type": "code",
   "execution_count": 160,
   "id": "20788741",
   "metadata": {},
   "outputs": [],
   "source": [
    "samp_x, samp_y = latlon2mercator(37.76, -122.44)"
   ]
  },
  {
   "cell_type": "code",
   "execution_count": 173,
   "id": "de944d26",
   "metadata": {},
   "outputs": [],
   "source": [
    "tile_provider = get_provider(OSM)\n",
    "sf_x, sf_y = latlon2mercator(sf_lat, sf_lon)\n",
    "# p = figure(x_range = (sf_x - 100, sf_x + 100), y_range= (sf_y - 100, sf_y + 100),\n",
    "#            x_axis_type = \"mercator\", y_axis_type = \"mercator\")\n",
    "p = figure(x_axis_type=\"mercator\", y_axis_type=\"mercator\")\n",
    "p.circle(x = 'x_coords', y = 'y_coords', source = sf_data)\n",
    "p.annulus(x = samp_x, y = samp_y, inner_radius = 0, outer_radius = 2030.0, \n",
    "          fill_color = 'green', fill_alpha = 0.5, line_alpha = 0)\n",
    "p.annulus(x = samp_x + 800, y = samp_y, inner_radius = 0, outer_radius = 2030.0, \n",
    "          fill_color = 'green', fill_alpha = 0.5, line_alpha = 0)\n",
    "p.annulus(x = samp_x, y = samp_y + 800, inner_radius = 0, outer_radius = 2030.0, \n",
    "          fill_color = 'green', fill_alpha = 0.5, line_alpha = 0)\n",
    "p.annulus(x = samp_x + 800, y = samp_y + 800, inner_radius = 0, outer_radius = 2030.0, \n",
    "          fill_color = 'green', fill_alpha = 0.5, line_alpha = 0)\n",
    "p.add_tile(tile_provider)\n",
    "show(p)"
   ]
  },
  {
   "cell_type": "code",
   "execution_count": 25,
   "id": "4cba8185",
   "metadata": {},
   "outputs": [],
   "source": [
    "tile_provider = get_provider(ESRI_IMAGERY)\n",
    "\n",
    "# range bounds supplied in web mercator coordinates\n",
    "p = figure(x_range=(-2000000, 6000000), y_range=(-1000000, 7000000),\n",
    "           x_axis_type=\"mercator\", y_axis_type=\"mercator\")\n",
    "p.add_tile(tile_provider)\n",
    "\n",
    "show(p)"
   ]
  },
  {
   "cell_type": "code",
   "execution_count": 50,
   "id": "f266cb2b",
   "metadata": {},
   "outputs": [],
   "source": [
    "def latlon2mercator(lat, lon):\n",
    "    r_earth = 6378137.000\n",
    "    x = r_earth * np.radians(lon)\n",
    "    scale = x/lon\n",
    "    y = 180.0/np.pi * np.log(np.tan(np.pi/4.0 + \n",
    "        lat * (np.pi/180.0)/2.0)) * scale\n",
    "    return (x, y)"
   ]
  },
  {
   "cell_type": "code",
   "execution_count": 52,
   "id": "0b6da63d",
   "metadata": {},
   "outputs": [],
   "source": [
    "def kil2mil(km):\n",
    "    return km * 0.621371"
   ]
  },
  {
   "cell_type": "code",
   "execution_count": 53,
   "id": "726a515e",
   "metadata": {},
   "outputs": [],
   "source": [
    "# Returns (approximate) distance in kilometers or miles.\n",
    "def calc_dist_latlon(lat_1, lon_1, lat_2, lon_2, unit = 'km'):\n",
    "    r_earth = 6371 # avg radius of Earth in km\n",
    "    d_lat = np.radians(lat_2 - lat_1)\n",
    "    d_lon = np.radians(lon_2 - lon_1)\n",
    "    \n",
    "#     a = ((math.sin(d_lat/2))**2 + \n",
    "#          (math.sin(d_lon/2))**2 + \n",
    "#          (math.cos(deg2rad(lat_1)) * math.cos(deg2rad(lat_2))))\n",
    "    \n",
    "#     print(math.cos(deg2rad(lat_1)))\n",
    "#     print(math.cos(deg2rad(lat_2)))\n",
    "#     print(a)\n",
    "\n",
    "    a = ((math.sin(d_lat/2) * math.sin(d_lat/2)) + \n",
    "         (math.cos(np.radians(lat_1)) * math.cos(np.radians(lat_2)) * \n",
    "         math.sin(d_lon/2) * math.sin(d_lon/2)))\n",
    "    \n",
    "    c = 2 * math.atan2(math.sqrt(a), math.sqrt(1 - a))\n",
    "    d = r_earth * c\n",
    "    \n",
    "    if unit == 'km':\n",
    "        return d\n",
    "    elif unit == 'mi':\n",
    "        return kil2mil(d)\n",
    "    else:\n",
    "        print(\"Units not recognized.\")\n",
    "        return 0"
   ]
  },
  {
   "cell_type": "code",
   "execution_count": 54,
   "id": "8e58bfbb",
   "metadata": {},
   "outputs": [
    {
     "name": "stdout",
     "output_type": "stream",
     "text": [
      "41.658275\n",
      "-87.608822\n"
     ]
    }
   ],
   "source": [
    "print(chicago_data['latitudes'][0])\n",
    "print(chicago_data['longitudes'][0])"
   ]
  },
  {
   "cell_type": "code",
   "execution_count": 83,
   "id": "74b26d6f",
   "metadata": {},
   "outputs": [],
   "source": [
    "lat_1 = 41.66000\n",
    "lon_1 = -87.61\n",
    "lat_2 = 41.67446\n",
    "lon_2 = -87.61"
   ]
  },
  {
   "cell_type": "code",
   "execution_count": 84,
   "id": "1229054a",
   "metadata": {},
   "outputs": [
    {
     "data": {
      "text/plain": [
       "0.9990891579687212"
      ]
     },
     "execution_count": 84,
     "metadata": {},
     "output_type": "execute_result"
    }
   ],
   "source": [
    "calc_dist_latlon(lat_1, lon_1, lat_2, lon_2, 'mi')"
   ]
  },
  {
   "cell_type": "code",
   "execution_count": 87,
   "id": "aa71181f",
   "metadata": {},
   "outputs": [
    {
     "name": "stdout",
     "output_type": "stream",
     "text": [
      "-2154.8057680875063\n"
     ]
    }
   ],
   "source": [
    "print(latlon2mercator(lat_1, lon_1)[1] - latlon2mercator(lat_2, lon_2)[1])"
   ]
  },
  {
   "cell_type": "code",
   "execution_count": 112,
   "id": "add3f03a",
   "metadata": {},
   "outputs": [],
   "source": [
    "lat_1 = 41.66\n",
    "lon_1 = -87.62936\n",
    "lat_2 = 41.66\n",
    "lon_2 = -87.61000"
   ]
  },
  {
   "cell_type": "code",
   "execution_count": 113,
   "id": "acae6e5a",
   "metadata": {},
   "outputs": [
    {
     "data": {
      "text/plain": [
       "0.9993588150024879"
      ]
     },
     "execution_count": 113,
     "metadata": {},
     "output_type": "execute_result"
    }
   ],
   "source": [
    "calc_dist_latlon(lat_1, lon_1, lat_2, lon_2, 'mi')"
   ]
  },
  {
   "cell_type": "code",
   "execution_count": 114,
   "id": "4b827599",
   "metadata": {},
   "outputs": [
    {
     "name": "stdout",
     "output_type": "stream",
     "text": [
      "-2155.1453417595476\n"
     ]
    }
   ],
   "source": [
    "print(latlon2mercator(lat_1, lon_1)[0] - latlon2mercator(lat_2, lon_2)[0])"
   ]
  },
  {
   "cell_type": "code",
   "execution_count": 115,
   "id": "b056ca9d",
   "metadata": {},
   "outputs": [
    {
     "name": "stdout",
     "output_type": "stream",
     "text": [
      "37.71047\n",
      "-122.46752\n"
     ]
    }
   ],
   "source": [
    "print(sf_data['latitudes'][0])\n",
    "print(sf_data['longitudes'][0])"
   ]
  },
  {
   "cell_type": "code",
   "execution_count": 120,
   "id": "c6878905",
   "metadata": {},
   "outputs": [],
   "source": [
    "lat_1 = 37.71\n",
    "lon_1 = -122.47\n",
    "lat_2 = 37.72446\n",
    "lon_2 = -122.47"
   ]
  },
  {
   "cell_type": "code",
   "execution_count": 121,
   "id": "dbb520ae",
   "metadata": {},
   "outputs": [
    {
     "data": {
      "text/plain": [
       "0.9990891579682302"
      ]
     },
     "execution_count": 121,
     "metadata": {},
     "output_type": "execute_result"
    }
   ],
   "source": [
    "calc_dist_latlon(lat_1, lon_1, lat_2, lon_2, 'mi')"
   ]
  },
  {
   "cell_type": "code",
   "execution_count": 122,
   "id": "ebd1cfbe",
   "metadata": {},
   "outputs": [
    {
     "name": "stdout",
     "output_type": "stream",
     "text": [
      "-2034.8916148012504\n"
     ]
    }
   ],
   "source": [
    "print(latlon2mercator(lat_1, lon_1)[1] - latlon2mercator(lat_2, lon_2)[1])"
   ]
  },
  {
   "cell_type": "code",
   "execution_count": 154,
   "id": "a4b52967",
   "metadata": {},
   "outputs": [],
   "source": [
    "lat_1 = 37.71\n",
    "lon_1 = -122.48830\n",
    "lat_2 = 37.71\n",
    "lon_2 = -122.47000"
   ]
  },
  {
   "cell_type": "code",
   "execution_count": 155,
   "id": "f695f3f8",
   "metadata": {},
   "outputs": [
    {
     "data": {
      "text/plain": [
       "1.0002939531870083"
      ]
     },
     "execution_count": 155,
     "metadata": {},
     "output_type": "execute_result"
    }
   ],
   "source": [
    "calc_dist_latlon(lat_1, lon_1, lat_2, lon_2, 'mi')"
   ]
  },
  {
   "cell_type": "code",
   "execution_count": 156,
   "id": "7ea0741d",
   "metadata": {},
   "outputs": [
    {
     "name": "stdout",
     "output_type": "stream",
     "text": [
      "-2037.1466815192252\n"
     ]
    }
   ],
   "source": [
    "print(latlon2mercator(lat_1, lon_1)[0] - latlon2mercator(lat_2, lon_2)[0])"
   ]
  },
  {
   "cell_type": "code",
   "execution_count": 245,
   "id": "1d56dd04",
   "metadata": {},
   "outputs": [],
   "source": [
    "# project = Transformer.from_proj(\n",
    "#     pyproj.Proj(init='epsg:4326'), # source coordinate system\n",
    "#     pyproj.Proj(init='epsg:3785')) # destination coordinate system\n",
    "\n",
    "crs_source = CRS(\"EPSG:4326\")\n",
    "crs_dest = CRS(\"EPSG:3785\")\n",
    "\n",
    "transformer = Transformer.from_crs(crs_source, crs_dest)"
   ]
  },
  {
   "cell_type": "code",
   "execution_count": 247,
   "id": "16b27ed4",
   "metadata": {},
   "outputs": [
    {
     "name": "stdout",
     "output_type": "stream",
     "text": [
      "(-13638249.862361172, 4548510.400085907)\n"
     ]
    }
   ],
   "source": [
    "sf_polygon = sf_shp.iloc[0]['geometry']\n",
    "single_polygon = sf_polygon[3]\n",
    "len(single_polygon.interiors)\n",
    "for x in single_polygon.exterior.coords:\n",
    "    print(transformer.transform(x[1], x[0]))\n",
    "    break"
   ]
  },
  {
   "cell_type": "code",
   "execution_count": null,
   "id": "d9ee12c8",
   "metadata": {},
   "outputs": [],
   "source": [
    "sf_geosource = GeoJSONDataSource(geojson = sf_shp.to_json())\n",
    "chicago_geosource = GeoJSONDataSource(geojson = chicago_shp.to_json())\n",
    "nyc_geosource = GeoJSONDataSource(geojson = nyc_shp.to_json())"
   ]
  },
  {
   "cell_type": "code",
   "execution_count": 259,
   "id": "78e59b80",
   "metadata": {},
   "outputs": [],
   "source": [
    "p = figure(x_axis_type = \"mercator\", y_axis_type = \"mercator\")\n",
    "# p.patches('xs', 'ys', source = sf_geosource, alpha = 0.5, color = 'green')\n",
    "p.circle('x_coords', 'y_coords', source = sf_data)\n",
    "\n",
    "tile_provider = get_provider(OSM)\n",
    "p.add_tile(tile_provider)\n",
    "\n",
    "show(p)"
   ]
  },
  {
   "cell_type": "code",
   "execution_count": 427,
   "id": "5ef45de8",
   "metadata": {},
   "outputs": [
    {
     "data": {
      "text/plain": [
       "1.0000154214520725"
      ]
     },
     "execution_count": 427,
     "metadata": {},
     "output_type": "execute_result"
    }
   ],
   "source": [
    "start_lat = chicago_data['latitudes'][0]\n",
    "start_lon = chicago_data['longitudes'][0]\n",
    "# new_lat = 41.6672682160591\n",
    "new_lat = 41.66726835474764\n",
    "new_lon = start_lon\n",
    "calc_dist_latlon(start_lat, start_lon, new_lat, new_lon)"
   ]
  },
  {
   "cell_type": "code",
   "execution_count": 425,
   "id": "0b6a2f66",
   "metadata": {},
   "outputs": [],
   "source": [
    "def tmp_func(x):\n",
    "    return abs(calc_dist_latlon(start_lat, start_lon, x, start_lon) - 1)"
   ]
  },
  {
   "cell_type": "code",
   "execution_count": 417,
   "id": "266a3b67",
   "metadata": {},
   "outputs": [
    {
     "name": "stdout",
     "output_type": "stream",
     "text": [
      "0.9999660923444551\n",
      "1.0130674077402091e-11\n"
     ]
    }
   ],
   "source": [
    "print(tmp_func(41.658275304938876))\n",
    "print(tmp_func(41.6672682160591))"
   ]
  },
  {
   "cell_type": "code",
   "execution_count": 428,
   "id": "e9d47566",
   "metadata": {},
   "outputs": [],
   "source": [
    "chicago_min = minimize_scalar(tmp_func, method = 'bounded', bounds = (start_lat, start_lat + 10))"
   ]
  },
  {
   "cell_type": "code",
   "execution_count": 470,
   "id": "162c48d7",
   "metadata": {},
   "outputs": [],
   "source": [
    "def find_a_mile(start_lat, start_lon, var):\n",
    "    if var == 'lat':\n",
    "        func_to_opt = lambda x: abs(calc_dist_latlon(start_lat, start_lon, x, start_lon, 'mi') - 1)\n",
    "        bounds = (start_lat, start_lat + 10)\n",
    "    elif var == 'lon':\n",
    "        func_to_opt = lambda x: abs(calc_dist_latlon(start_lat, start_lon, start_lat, x, 'mi') - 1)\n",
    "        bounds = (start_lon, start_lon + 10)\n",
    "    else:\n",
    "        print('Specify which variable to optimize')\n",
    "        return\n",
    "    \n",
    "    optimized = minimize_scalar(func_to_opt, method = 'bounded', bounds = bounds)\n",
    "    \n",
    "    if var == 'lat':\n",
    "        new_lat = optimized.x\n",
    "        new_lon = start_lon\n",
    "        axis = 1\n",
    "    else:\n",
    "        new_lat = start_lat\n",
    "        new_lon = optimized.x\n",
    "        axis = 0\n",
    "    \n",
    "    difference = latlon2mercator(start_lat, start_lon)[axis] - latlon2mercator(new_lat, new_lon)[axis]\n",
    "    return int(abs(difference))"
   ]
  },
  {
   "cell_type": "code",
   "execution_count": 471,
   "id": "0335f00d",
   "metadata": {},
   "outputs": [],
   "source": [
    "dist_1 = find_a_mile(chicago_data['latitudes'][0], chicago_data['longitudes'][0], 'lat')\n",
    "dist_2 = find_a_mile(chicago_data['latitudes'][0], chicago_data['longitudes'][0], 'lon')\n",
    "dist_3 = find_a_mile(chicago_data['latitudes'][-1], chicago_data['longitudes'][-1], 'lat')\n",
    "dist_4 = find_a_mile(chicago_data['latitudes'][-1], chicago_data['longitudes'][-1], 'lon')\n",
    "\n",
    "avg_dist_chicago = (dist_1 + dist_2 + dist_3 + dist_4) / 4"
   ]
  },
  {
   "cell_type": "code",
   "execution_count": 472,
   "id": "13d66e03",
   "metadata": {},
   "outputs": [],
   "source": [
    "dist_1 = find_a_mile(sf_data['latitudes'][0], sf_data['longitudes'][0], 'lat')\n",
    "dist_2 = find_a_mile(sf_data['latitudes'][0], sf_data['longitudes'][0], 'lon')\n",
    "dist_3 = find_a_mile(sf_data['latitudes'][-1], sf_data['longitudes'][-1], 'lat')\n",
    "dist_4 = find_a_mile(sf_data['latitudes'][-1], sf_data['longitudes'][-1], 'lon')\n",
    "\n",
    "# print(dist_1, dist_2, dist_3, dist_4)\n",
    "\n",
    "avg_dist_sf = (dist_1 + dist_2 + dist_3 + dist_4) / 4"
   ]
  },
  {
   "cell_type": "code",
   "execution_count": 473,
   "id": "422a3217",
   "metadata": {},
   "outputs": [],
   "source": [
    "dist_1 = find_a_mile(nyc_data['latitudes'][0], nyc_data['longitudes'][0], 'lat')\n",
    "dist_2 = find_a_mile(nyc_data['latitudes'][0], nyc_data['longitudes'][0], 'lon')\n",
    "dist_3 = find_a_mile(nyc_data['latitudes'][-1], nyc_data['longitudes'][-1], 'lat')\n",
    "dist_4 = find_a_mile(nyc_data['latitudes'][-1], nyc_data['longitudes'][-1], 'lon')\n",
    "\n",
    "# print(dist_1, dist_2, dist_3, dist_4)\n",
    "\n",
    "avg_dist_nyc = (dist_1 + dist_2 + dist_3 + dist_4) / 4"
   ]
  },
  {
   "cell_type": "code",
   "execution_count": 474,
   "id": "38eec3c9",
   "metadata": {},
   "outputs": [
    {
     "name": "stdout",
     "output_type": "stream",
     "text": [
      "2161.5\n"
     ]
    }
   ],
   "source": [
    "print(avg_dist_chicago)"
   ]
  },
  {
   "cell_type": "code",
   "execution_count": 477,
   "id": "36ed9bcc",
   "metadata": {},
   "outputs": [],
   "source": [
    "p = figure(x_axis_type = \"mercator\", y_axis_type = \"mercator\")\n",
    "# p.patches('xs', 'ys', source = nyc_geosource, alpha = 0.5, color = 'green')\n",
    "p.circle('x_coords', 'y_coords', source = sf_data)\n",
    "\n",
    "tile_provider = get_provider(OSM)\n",
    "p.add_tile(tile_provider)\n",
    "\n",
    "p_annulus = p.annulus(x = 'x_coords', y = 'y_coords', source = sf_data, \n",
    "                      inner_radius = 0, outer_radius = avg_dist_sf, \n",
    "                      fill_color = 'gray', fill_alpha = 0.5, line_alpha = 0)\n",
    "\n",
    "slider = Slider(start = 0, end = 1, step = 0.01, value = 0.5)\n",
    "slider.js_on_change('value',\n",
    "    CustomJS(args=dict(other = p_annulus.glyph, factor = avg_dist_sf),\n",
    "             code=\"other.outer_radius = factor * this.value\"))\n",
    "\n",
    "\n",
    "show(column(p, slider))"
   ]
  },
  {
   "cell_type": "code",
   "execution_count": 475,
   "id": "88ab3439",
   "metadata": {},
   "outputs": [],
   "source": [
    "p = figure(x_axis_type = \"mercator\", y_axis_type = \"mercator\")\n",
    "p.patch('x', 'y', source = chicago_poly, alpha = 0.5, color = 'green')\n",
    "p.circle('x_coords', 'y_coords', source = chicago_data)\n",
    "\n",
    "tile_provider = get_provider(OSM)\n",
    "p.add_tile(tile_provider)\n",
    "\n",
    "p_annulus = p.annulus(x = 'x_coords', y = 'y_coords', source = chicago_data, \n",
    "                      inner_radius = 0, outer_radius = avg_dist_chicago, \n",
    "                      fill_color = 'gray', fill_alpha = 0.5, line_alpha = 0)\n",
    "\n",
    "slider = Slider(start = 0, end = 1, step = 0.01, value = 0.5)\n",
    "# slider.js_link('value', p_annulus.glyph, 'outer_radius')\n",
    "slider.js_on_change('value',\n",
    "    CustomJS(args=dict(other = p_annulus.glyph, factor = avg_dist_chicago),\n",
    "             code=\"other.outer_radius = factor * this.value\"))\n",
    "\n",
    "# p.add_tools(HoverTool())\n",
    "\n",
    "# show(p)\n",
    "\n",
    "show(column(p, slider))"
   ]
  },
  {
   "cell_type": "code",
   "execution_count": 476,
   "id": "1a0c10c7",
   "metadata": {},
   "outputs": [],
   "source": [
    "p = figure(x_axis_type = \"mercator\", y_axis_type = \"mercator\")\n",
    "# p.patches('xs', 'ys', source = nyc_geosource, alpha = 0.5, color = 'green')\n",
    "p.circle('x_coords', 'y_coords', source = nyc_data)\n",
    "\n",
    "tile_provider = get_provider(OSM)\n",
    "p.add_tile(tile_provider)\n",
    "\n",
    "p_annulus = p.annulus(x = 'x_coords', y = 'y_coords', source = nyc_data, \n",
    "                      inner_radius = 0, outer_radius = avg_dist_nyc, \n",
    "                      fill_color = 'gray', fill_alpha = 0.5, line_alpha = 0)\n",
    "\n",
    "slider = Slider(start = 0, end = 1, step = 0.01, value = 0.5)\n",
    "slider.js_on_change('value',\n",
    "    CustomJS(args=dict(other = p_annulus.glyph, factor = avg_dist_nyc),\n",
    "             code=\"other.outer_radius = factor * this.value\"))\n",
    "\n",
    "\n",
    "show(column(p, slider))"
   ]
  },
  {
   "cell_type": "code",
   "execution_count": null,
   "id": "4d2d15d0",
   "metadata": {},
   "outputs": [],
   "source": []
  },
  {
   "cell_type": "code",
   "execution_count": 307,
   "id": "0b0c3383",
   "metadata": {},
   "outputs": [],
   "source": [
    "def gen_circle(radius, center, num_points = 75):\n",
    "    data = {\n",
    "        'x': [],\n",
    "        'y': []\n",
    "    }\n",
    "    for i in range(num_points):\n",
    "        angle = 2 * math.pi * i / num_points\n",
    "        data['x'].append(center[0] + (radius * math.cos(angle)))\n",
    "        data['y'].append(center[1] + (radius * math.sin(angle)))\n",
    "        \n",
    "    return data"
   ]
  },
  {
   "cell_type": "code",
   "execution_count": 315,
   "id": "765f9822",
   "metadata": {},
   "outputs": [],
   "source": [
    "square_data = {\n",
    "    'x': [-2, 7, 7, -2],\n",
    "    'y': [5, 5, -6, -6]\n",
    "}\n",
    "\n",
    "circle_1_data = gen_circle(2, (1, 2))\n",
    "circle_2_data = gen_circle(2, (4.5, 0))\n",
    "circle_3_data = gen_circle(2, (3, 2))\n",
    "\n",
    "p = figure()\n",
    "\n",
    "# p.patch('x', 'y', source = circle_1_data, color = 'green')\n",
    "# p.patch('x', 'y', source = circle_2_data, color = 'green')\n",
    "# p.patch('x', 'y', source = square_data, color = 'blue', alpha = 0.5)\n",
    "\n",
    "p.multi_polygons(xs = [[[ square_data['x'], circle_1_data['x'], circle_2_data['x'], circle_3_data['x'] ]]],\n",
    "                 ys = [[[ square_data['y'], circle_1_data['y'], circle_2_data['y'], circle_3_data['y'] ]]])\n",
    "\n",
    "show(p)"
   ]
  },
  {
   "cell_type": "code",
   "execution_count": 324,
   "id": "ace60422",
   "metadata": {},
   "outputs": [],
   "source": [
    "square_data = {\n",
    "    'x': [-5, 8, 8, -5],\n",
    "    'y': [4, 4, -9, -9]\n",
    "}\n",
    "\n",
    "circle_1_data = gen_circle(3, (-0.5, -2))\n",
    "circle_2_data = gen_circle(3, (3.5, -2))\n",
    "\n",
    "circle_2_cut = {\n",
    "    'x': [],\n",
    "    'y': []\n",
    "}\n",
    "\n",
    "for x, y in zip(circle_2_data['x'], circle_2_data['y']):\n",
    "    if x < 1.5:\n",
    "        pass\n",
    "    else:\n",
    "        circle_2_cut['x'].append(x)\n",
    "        circle_2_cut['y'].append(y)\n",
    "\n",
    "p = figure()\n",
    "\n",
    "p.multi_polygons(xs = [[[ square_data['x'], circle_1_data['x'], circle_2_cut['x'] ]]],\n",
    "                 ys = [[[ square_data['y'], circle_1_data['y'], circle_2_cut['y'] ]]])\n",
    "\n",
    "show(p)"
   ]
  },
  {
   "cell_type": "code",
   "execution_count": null,
   "id": "798b0fd8",
   "metadata": {},
   "outputs": [],
   "source": []
  }
 ],
 "metadata": {
  "kernelspec": {
   "display_name": "Python 3",
   "language": "python",
   "name": "python3"
  },
  "language_info": {
   "codemirror_mode": {
    "name": "ipython",
    "version": 3
   },
   "file_extension": ".py",
   "mimetype": "text/x-python",
   "name": "python",
   "nbconvert_exporter": "python",
   "pygments_lexer": "ipython3",
   "version": "3.9.5"
  }
 },
 "nbformat": 4,
 "nbformat_minor": 5
}
