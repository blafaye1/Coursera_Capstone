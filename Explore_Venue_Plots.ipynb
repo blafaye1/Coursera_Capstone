{
 "cells": [
  {
   "cell_type": "code",
   "execution_count": 215,
   "id": "869bbb6f",
   "metadata": {},
   "outputs": [],
   "source": [
    "import numpy as np\n",
    "import pandas as pd\n",
    "import requests\n",
    "import json\n",
    "import folium\n",
    "from bs4 import BeautifulSoup\n",
    "from geopy.geocoders import Nominatim\n",
    "import time\n",
    "import math\n",
    "from bokeh.io import output_file, show\n",
    "from bokeh.plotting import figure\n",
    "from bokeh.models import ColumnDataSource, GeoJSONDataSource\n",
    "from bokeh.tile_providers import ESRI_IMAGERY, get_provider\n",
    "import geopandas as gpd\n",
    "from pyproj import Transformer, CRS\n",
    "from shapely.ops import transform"
   ]
  },
  {
   "cell_type": "code",
   "execution_count": 14,
   "id": "c9cd811a",
   "metadata": {},
   "outputs": [],
   "source": [
    "with open('variables/city_centers.json') as f_in:\n",
    "    city_centers = json.load(f_in)\n",
    "\n",
    "sf_lat = city_centers['sf'][0]\n",
    "sf_lon = city_centers['sf'][1]\n",
    "chicago_lat = city_centers['chicago'][0]\n",
    "chicago_lon = city_centers['chicago'][1]\n",
    "nyc_lat = city_centers['nyc'][0]\n",
    "nyc_lon = city_centers['nyc'][1]"
   ]
  },
  {
   "cell_type": "code",
   "execution_count": 2,
   "id": "b2544834",
   "metadata": {},
   "outputs": [],
   "source": [
    "with open('json_data/sf_venues_results.json') as f_in: \n",
    "    sf_venues_results = json.load(f_in)\n",
    "with open('json_data/chicago_venues_results.json') as f_in:\n",
    "    chicago_venues_results = json.load(f_in)\n",
    "with open('json_data/nyc_venues_results.json') as f_in:\n",
    "    nyc_venues_results = json.load(f_in)"
   ]
  },
  {
   "cell_type": "code",
   "execution_count": 176,
   "id": "20d661bd",
   "metadata": {},
   "outputs": [],
   "source": [
    "california = gpd.read_file('shape_data/california/california.shp')\n",
    "illinois = gpd.read_file('shape_data/illinois/illinois.shp')\n",
    "new_york = gpd.read_file('shape_data/new_york/new_york.shp')"
   ]
  },
  {
   "cell_type": "code",
   "execution_count": 177,
   "id": "c9ebbb19",
   "metadata": {},
   "outputs": [],
   "source": [
    "sf_shp = california[california['NAME'] == 'San Francisco']\n",
    "chicago_shp = illinois[illinois['NAME'] == 'Chicago']\n",
    "nyc_shp = new_york[new_york['NAME'] == 'New York']"
   ]
  },
  {
   "cell_type": "code",
   "execution_count": 51,
   "id": "e3690071",
   "metadata": {},
   "outputs": [],
   "source": [
    "unique_ids = set()\n",
    "\n",
    "sf_data = {\n",
    "    'latitudes': [],\n",
    "    'longitudes': [],\n",
    "    'x_coords': [],\n",
    "    'y_coords': [],\n",
    "    'labels': []\n",
    "}\n",
    "\n",
    "for i, venue in enumerate(sf_venues_results):\n",
    "    items_list = venue['response']['groups'][0]['items']\n",
    "    for item in items_list:\n",
    "        item_id = item['venue']['id']\n",
    "        if item_id in unique_ids:\n",
    "            continue\n",
    "        else:\n",
    "            unique_ids.add(item_id)\n",
    "            sf_data['latitudes'].append(item['venue']['location']['lat'])\n",
    "            sf_data['longitudes'].append(item['venue']['location']['lng'])\n",
    "            sf_data['labels'].append(item['venue']['categories'][0]['name'])\n",
    "\n",
    "for lat, lon in zip(sf_data['latitudes'], sf_data['longitudes']):\n",
    "    x, y = latlon2mercator(lat, lon)\n",
    "    sf_data['x_coords'].append(x)\n",
    "    sf_data['y_coords'].append(y)"
   ]
  },
  {
   "cell_type": "code",
   "execution_count": 40,
   "id": "a17e149c",
   "metadata": {},
   "outputs": [],
   "source": [
    "unique_ids = set()\n",
    "\n",
    "chicago_data = {\n",
    "    'latitudes': [],\n",
    "    'longitudes': [],\n",
    "    'x_coords': [],\n",
    "    'y_coords': [],\n",
    "    'labels': []\n",
    "}\n",
    "\n",
    "for i, venue in enumerate(chicago_venues_results):\n",
    "    items_list = venue['response']['groups'][0]['items']\n",
    "    for item in items_list:\n",
    "        item_id = item['venue']['id']\n",
    "        if item_id in unique_ids:\n",
    "            continue\n",
    "        else:\n",
    "            unique_ids.add(item_id)\n",
    "            chicago_data['latitudes'].append(item['venue']['location']['lat'])\n",
    "            chicago_data['longitudes'].append(item['venue']['location']['lng'])\n",
    "            chicago_data['labels'].append(item['venue']['categories'][0]['name'])\n",
    "\n",
    "for lat, lon in zip(chicago_data['latitudes'], chicago_data['longitudes']):\n",
    "    x, y = latlon2mercator(lat, lon)\n",
    "    chicago_data['x_coords'].append(x)\n",
    "    chicago_data['y_coords'].append(y)"
   ]
  },
  {
   "cell_type": "code",
   "execution_count": 194,
   "id": "3bcdda6d",
   "metadata": {},
   "outputs": [],
   "source": [
    "unique_ids = set()\n",
    "\n",
    "nyc_data = {\n",
    "    'latitudes': [],\n",
    "    'longitudes': [],\n",
    "    'x_coords': [],\n",
    "    'y_coords': [],\n",
    "    'labels': []\n",
    "}\n",
    "\n",
    "for i, venue in enumerate(nyc_venues_results):\n",
    "    items_list = venue['response']['groups'][0]['items']\n",
    "    for item in items_list:\n",
    "        item_id = item['venue']['id']\n",
    "        if item_id in unique_ids:\n",
    "            continue\n",
    "        else:\n",
    "            unique_ids.add(item_id)\n",
    "            nyc_data['latitudes'].append(item['venue']['location']['lat'])\n",
    "            nyc_data['longitudes'].append(item['venue']['location']['lng'])\n",
    "            nyc_data['labels'].append(item['venue']['categories'][0]['name'])\n",
    "\n",
    "for lat, lon in zip(nyc_data['latitudes'], nyc_data['longitudes']):\n",
    "    x, y = latlon2mercator(lat, lon)\n",
    "    nyc_data['x_coords'].append(x)\n",
    "    nyc_data['y_coords'].append(y)"
   ]
  },
  {
   "cell_type": "code",
   "execution_count": 160,
   "id": "2eb83527",
   "metadata": {},
   "outputs": [],
   "source": [
    "samp_x, samp_y = latlon2mercator(37.76, -122.44)"
   ]
  },
  {
   "cell_type": "code",
   "execution_count": 173,
   "id": "52330371",
   "metadata": {},
   "outputs": [],
   "source": [
    "tile_provider = get_provider(OSM)\n",
    "sf_x, sf_y = latlon2mercator(sf_lat, sf_lon)\n",
    "# p = figure(x_range = (sf_x - 100, sf_x + 100), y_range= (sf_y - 100, sf_y + 100),\n",
    "#            x_axis_type = \"mercator\", y_axis_type = \"mercator\")\n",
    "p = figure(x_axis_type=\"mercator\", y_axis_type=\"mercator\")\n",
    "p.circle(x = 'x_coords', y = 'y_coords', source = sf_data)\n",
    "p.annulus(x = samp_x, y = samp_y, inner_radius = 0, outer_radius = 2030.0, \n",
    "          fill_color = 'green', fill_alpha = 0.5, line_alpha = 0)\n",
    "p.annulus(x = samp_x + 800, y = samp_y, inner_radius = 0, outer_radius = 2030.0, \n",
    "          fill_color = 'green', fill_alpha = 0.5, line_alpha = 0)\n",
    "p.annulus(x = samp_x, y = samp_y + 800, inner_radius = 0, outer_radius = 2030.0, \n",
    "          fill_color = 'green', fill_alpha = 0.5, line_alpha = 0)\n",
    "p.annulus(x = samp_x + 800, y = samp_y + 800, inner_radius = 0, outer_radius = 2030.0, \n",
    "          fill_color = 'green', fill_alpha = 0.5, line_alpha = 0)\n",
    "p.add_tile(tile_provider)\n",
    "show(p)"
   ]
  },
  {
   "cell_type": "code",
   "execution_count": 25,
   "id": "3694ea24",
   "metadata": {},
   "outputs": [],
   "source": [
    "tile_provider = get_provider(ESRI_IMAGERY)\n",
    "\n",
    "# range bounds supplied in web mercator coordinates\n",
    "p = figure(x_range=(-2000000, 6000000), y_range=(-1000000, 7000000),\n",
    "           x_axis_type=\"mercator\", y_axis_type=\"mercator\")\n",
    "p.add_tile(tile_provider)\n",
    "\n",
    "show(p)"
   ]
  },
  {
   "cell_type": "code",
   "execution_count": 50,
   "id": "484dc570",
   "metadata": {},
   "outputs": [],
   "source": [
    "def latlon2mercator(lat, lon):\n",
    "    r_earth = 6378137.000\n",
    "    x = r_earth * np.radians(lon)\n",
    "    scale = x/lon\n",
    "    y = 180.0/np.pi * np.log(np.tan(np.pi/4.0 + \n",
    "        lat * (np.pi/180.0)/2.0)) * scale\n",
    "    return (x, y)"
   ]
  },
  {
   "cell_type": "code",
   "execution_count": 52,
   "id": "1715770f",
   "metadata": {},
   "outputs": [],
   "source": [
    "def kil2mil(km):\n",
    "    return km * 0.621371"
   ]
  },
  {
   "cell_type": "code",
   "execution_count": 53,
   "id": "4629c6dc",
   "metadata": {},
   "outputs": [],
   "source": [
    "# Returns (approximate) distance in kilometers or miles.\n",
    "def calc_dist_latlon(lat_1, lon_1, lat_2, lon_2, unit = 'km'):\n",
    "    r_earth = 6371 # avg radius of Earth in km\n",
    "    d_lat = np.radians(lat_2 - lat_1)\n",
    "    d_lon = np.radians(lon_2 - lon_1)\n",
    "    \n",
    "#     a = ((math.sin(d_lat/2))**2 + \n",
    "#          (math.sin(d_lon/2))**2 + \n",
    "#          (math.cos(deg2rad(lat_1)) * math.cos(deg2rad(lat_2))))\n",
    "    \n",
    "#     print(math.cos(deg2rad(lat_1)))\n",
    "#     print(math.cos(deg2rad(lat_2)))\n",
    "#     print(a)\n",
    "\n",
    "    a = ((math.sin(d_lat/2) * math.sin(d_lat/2)) + \n",
    "         (math.cos(np.radians(lat_1)) * math.cos(np.radians(lat_2)) * \n",
    "         math.sin(d_lon/2) * math.sin(d_lon/2)))\n",
    "    \n",
    "    c = 2 * math.atan2(math.sqrt(a), math.sqrt(1 - a))\n",
    "    d = r_earth * c\n",
    "    \n",
    "    if unit == 'km':\n",
    "        return d\n",
    "    elif unit == 'mi':\n",
    "        return kil2mil(d)\n",
    "    else:\n",
    "        print(\"Units not recognized.\")\n",
    "        return 0"
   ]
  },
  {
   "cell_type": "code",
   "execution_count": 54,
   "id": "f81c4ab9",
   "metadata": {},
   "outputs": [
    {
     "name": "stdout",
     "output_type": "stream",
     "text": [
      "41.658275\n",
      "-87.608822\n"
     ]
    }
   ],
   "source": [
    "print(chicago_data['latitudes'][0])\n",
    "print(chicago_data['longitudes'][0])"
   ]
  },
  {
   "cell_type": "code",
   "execution_count": 83,
   "id": "302da4ff",
   "metadata": {},
   "outputs": [],
   "source": [
    "lat_1 = 41.66000\n",
    "lon_1 = -87.61\n",
    "lat_2 = 41.67446\n",
    "lon_2 = -87.61"
   ]
  },
  {
   "cell_type": "code",
   "execution_count": 84,
   "id": "f9424b6a",
   "metadata": {},
   "outputs": [
    {
     "data": {
      "text/plain": [
       "0.9990891579687212"
      ]
     },
     "execution_count": 84,
     "metadata": {},
     "output_type": "execute_result"
    }
   ],
   "source": [
    "calc_dist_latlon(lat_1, lon_1, lat_2, lon_2, 'mi')"
   ]
  },
  {
   "cell_type": "code",
   "execution_count": 87,
   "id": "e222613e",
   "metadata": {},
   "outputs": [
    {
     "name": "stdout",
     "output_type": "stream",
     "text": [
      "-2154.8057680875063\n"
     ]
    }
   ],
   "source": [
    "print(latlon2mercator(lat_1, lon_1)[1] - latlon2mercator(lat_2, lon_2)[1])"
   ]
  },
  {
   "cell_type": "code",
   "execution_count": 112,
   "id": "1cd28ff8",
   "metadata": {},
   "outputs": [],
   "source": [
    "lat_1 = 41.66\n",
    "lon_1 = -87.62936\n",
    "lat_2 = 41.66\n",
    "lon_2 = -87.61000"
   ]
  },
  {
   "cell_type": "code",
   "execution_count": 113,
   "id": "87fa7c68",
   "metadata": {},
   "outputs": [
    {
     "data": {
      "text/plain": [
       "0.9993588150024879"
      ]
     },
     "execution_count": 113,
     "metadata": {},
     "output_type": "execute_result"
    }
   ],
   "source": [
    "calc_dist_latlon(lat_1, lon_1, lat_2, lon_2, 'mi')"
   ]
  },
  {
   "cell_type": "code",
   "execution_count": 114,
   "id": "30730754",
   "metadata": {},
   "outputs": [
    {
     "name": "stdout",
     "output_type": "stream",
     "text": [
      "-2155.1453417595476\n"
     ]
    }
   ],
   "source": [
    "print(latlon2mercator(lat_1, lon_1)[0] - latlon2mercator(lat_2, lon_2)[0])"
   ]
  },
  {
   "cell_type": "code",
   "execution_count": 115,
   "id": "0e08c2cd",
   "metadata": {},
   "outputs": [
    {
     "name": "stdout",
     "output_type": "stream",
     "text": [
      "37.71047\n",
      "-122.46752\n"
     ]
    }
   ],
   "source": [
    "print(sf_data['latitudes'][0])\n",
    "print(sf_data['longitudes'][0])"
   ]
  },
  {
   "cell_type": "code",
   "execution_count": 120,
   "id": "c02e7f22",
   "metadata": {},
   "outputs": [],
   "source": [
    "lat_1 = 37.71\n",
    "lon_1 = -122.47\n",
    "lat_2 = 37.72446\n",
    "lon_2 = -122.47"
   ]
  },
  {
   "cell_type": "code",
   "execution_count": 121,
   "id": "b34d1c51",
   "metadata": {},
   "outputs": [
    {
     "data": {
      "text/plain": [
       "0.9990891579682302"
      ]
     },
     "execution_count": 121,
     "metadata": {},
     "output_type": "execute_result"
    }
   ],
   "source": [
    "calc_dist_latlon(lat_1, lon_1, lat_2, lon_2, 'mi')"
   ]
  },
  {
   "cell_type": "code",
   "execution_count": 122,
   "id": "402955e9",
   "metadata": {},
   "outputs": [
    {
     "name": "stdout",
     "output_type": "stream",
     "text": [
      "-2034.8916148012504\n"
     ]
    }
   ],
   "source": [
    "print(latlon2mercator(lat_1, lon_1)[1] - latlon2mercator(lat_2, lon_2)[1])"
   ]
  },
  {
   "cell_type": "code",
   "execution_count": 154,
   "id": "48832a84",
   "metadata": {},
   "outputs": [],
   "source": [
    "lat_1 = 37.71\n",
    "lon_1 = -122.48830\n",
    "lat_2 = 37.71\n",
    "lon_2 = -122.47000"
   ]
  },
  {
   "cell_type": "code",
   "execution_count": 155,
   "id": "2ef4c725",
   "metadata": {},
   "outputs": [
    {
     "data": {
      "text/plain": [
       "1.0002939531870083"
      ]
     },
     "execution_count": 155,
     "metadata": {},
     "output_type": "execute_result"
    }
   ],
   "source": [
    "calc_dist_latlon(lat_1, lon_1, lat_2, lon_2, 'mi')"
   ]
  },
  {
   "cell_type": "code",
   "execution_count": 156,
   "id": "dc81a7ff",
   "metadata": {},
   "outputs": [
    {
     "name": "stdout",
     "output_type": "stream",
     "text": [
      "-2037.1466815192252\n"
     ]
    }
   ],
   "source": [
    "print(latlon2mercator(lat_1, lon_1)[0] - latlon2mercator(lat_2, lon_2)[0])"
   ]
  },
  {
   "cell_type": "code",
   "execution_count": 245,
   "id": "f2fce71e",
   "metadata": {},
   "outputs": [],
   "source": [
    "# project = Transformer.from_proj(\n",
    "#     pyproj.Proj(init='epsg:4326'), # source coordinate system\n",
    "#     pyproj.Proj(init='epsg:3785')) # destination coordinate system\n",
    "\n",
    "crs_source = CRS(\"EPSG:4326\")\n",
    "crs_dest = CRS(\"EPSG:3785\")\n",
    "\n",
    "transformer = Transformer.from_crs(crs_source, crs_dest)"
   ]
  },
  {
   "cell_type": "code",
   "execution_count": 247,
   "id": "5d7eb37e",
   "metadata": {},
   "outputs": [
    {
     "name": "stdout",
     "output_type": "stream",
     "text": [
      "(-13638249.862361172, 4548510.400085907)\n"
     ]
    }
   ],
   "source": [
    "sf_polygon = sf_shp.iloc[0]['geometry']\n",
    "single_polygon = sf_polygon[3]\n",
    "len(single_polygon.interiors)\n",
    "for x in single_polygon.exterior.coords:\n",
    "    print(transformer.transform(x[1], x[0]))\n",
    "    break"
   ]
  },
  {
   "cell_type": "code",
   "execution_count": null,
   "id": "be17b72e",
   "metadata": {},
   "outputs": [],
   "source": [
    "sf_geosource = GeoJSONDataSource(geojson = sf_shp.to_json())\n",
    "chicago_geosource = GeoJSONDataSource(geojson = chicago_shp.to_json())\n",
    "nyc_geosource = GeoJSONDataSource(geojson = nyc_shp.to_json())"
   ]
  },
  {
   "cell_type": "code",
   "execution_count": 248,
   "id": "18ad0fed",
   "metadata": {},
   "outputs": [],
   "source": [
    "p = figure(x_axis_type = \"mercator\", y_axis_type = \"mercator\")\n",
    "# p.patches('xs', 'ys', source = sf_geosource, alpha = 0.5, color = 'green')\n",
    "p.circle('x_coords', 'y_coords', source = sf_data)\n",
    "p.circle(-13638249.862361172, 4548510.400085907, color = 'red')\n",
    "\n",
    "tile_provider = get_provider(OSM)\n",
    "p.add_tile(tile_provider)\n",
    "\n",
    "show(p)"
   ]
  },
  {
   "cell_type": "code",
   "execution_count": 202,
   "id": "0e37e03c",
   "metadata": {},
   "outputs": [],
   "source": [
    "p = figure(x_axis_type = \"mercator\", y_axis_type = \"mercator\")\n",
    "p.patches('xs', 'ys', source = chicago_geosource, alpha = 0.5, color = 'green')\n",
    "p.circle('x_coords', 'y_coords', source = chicago_data)\n",
    "\n",
    "tile_provider = get_provider(OSM)\n",
    "p.add_tile(tile_provider)\n",
    "\n",
    "show(p)"
   ]
  },
  {
   "cell_type": "code",
   "execution_count": 195,
   "id": "2bc91b27",
   "metadata": {},
   "outputs": [],
   "source": [
    "p = figure(x_axis_type = \"mercator\", y_axis_type = \"mercator\")\n",
    "p.patches('xs', 'ys', source = nyc_geosource, alpha = 0.5, color = 'green')\n",
    "p.circle('longitudes', 'latitudes', source = nyc_data)\n",
    "\n",
    "tile_provider = get_provider(OSM)\n",
    "p.add_tile(tile_provider)\n",
    "\n",
    "show(p)"
   ]
  },
  {
   "cell_type": "code",
   "execution_count": null,
   "id": "10810542",
   "metadata": {},
   "outputs": [],
   "source": []
  },
  {
   "cell_type": "code",
   "execution_count": null,
   "id": "84714c1e",
   "metadata": {},
   "outputs": [],
   "source": []
  }
 ],
 "metadata": {
  "kernelspec": {
   "display_name": "Python 3",
   "language": "python",
   "name": "python3"
  },
  "language_info": {
   "codemirror_mode": {
    "name": "ipython",
    "version": 3
   },
   "file_extension": ".py",
   "mimetype": "text/x-python",
   "name": "python",
   "nbconvert_exporter": "python",
   "pygments_lexer": "ipython3",
   "version": "3.9.5"
  }
 },
 "nbformat": 4,
 "nbformat_minor": 5
}
