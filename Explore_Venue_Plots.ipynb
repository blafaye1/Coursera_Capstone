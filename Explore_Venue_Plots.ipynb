{
 "cells": [
  {
   "cell_type": "code",
   "execution_count": 11,
   "id": "5b8441b9",
   "metadata": {},
   "outputs": [],
   "source": [
    "import numpy as np\n",
    "import pandas as pd\n",
    "import requests\n",
    "import json\n",
    "import folium\n",
    "from bs4 import BeautifulSoup\n",
    "from geopy.geocoders import Nominatim\n",
    "import time\n",
    "import math\n",
    "from bokeh.io import output_file, show\n",
    "from bokeh.plotting import figure\n",
    "from bokeh.models import ColumnDataSource\n",
    "from bokeh.tile_providers import ESRI_IMAGERY, get_provider"
   ]
  },
  {
   "cell_type": "code",
   "execution_count": 14,
   "id": "a7621ae7",
   "metadata": {},
   "outputs": [],
   "source": [
    "with open('variables/city_centers.json') as f_in:\n",
    "    city_centers = json.load(f_in)\n",
    "\n",
    "sf_lat = city_centers['sf'][0]\n",
    "sf_lon = city_centers['sf'][1]\n",
    "chicago_lat = city_centers['chicago'][0]\n",
    "chicago_lon = city_centers['chicago'][1]\n",
    "nyc_lat = city_centers['nyc'][0]\n",
    "nyc_lon = city_centers['nyc'][1]"
   ]
  },
  {
   "cell_type": "code",
   "execution_count": 2,
   "id": "6faad2ae",
   "metadata": {},
   "outputs": [],
   "source": [
    "with open('json_data/sf_venues_results.json') as f_in: \n",
    "    sf_venues_results = json.load(f_in)\n",
    "with open('json_data/chicago_venues_results.json') as f_in:\n",
    "    chicago_venues_results = json.load(f_in)\n",
    "with open('json_data/nyc_venues_results.json') as f_in:\n",
    "    nyc_venues_results = json.load(f_in)"
   ]
  },
  {
   "cell_type": "code",
   "execution_count": 51,
   "id": "5fcdbae6",
   "metadata": {},
   "outputs": [],
   "source": [
    "unique_ids = set()\n",
    "\n",
    "sf_data = {\n",
    "    'latitudes': [],\n",
    "    'longitudes': [],\n",
    "    'x_coords': [],\n",
    "    'y_coords': [],\n",
    "    'labels': []\n",
    "}\n",
    "\n",
    "for i, venue in enumerate(sf_venues_results):\n",
    "    items_list = venue['response']['groups'][0]['items']\n",
    "    for item in items_list:\n",
    "        item_id = item['venue']['id']\n",
    "        if item_id in unique_ids:\n",
    "            continue\n",
    "        else:\n",
    "            unique_ids.add(item_id)\n",
    "            sf_data['latitudes'].append(item['venue']['location']['lat'])\n",
    "            sf_data['longitudes'].append(item['venue']['location']['lng'])\n",
    "            sf_data['labels'].append(item['venue']['categories'][0]['name'])\n",
    "\n",
    "for lat, lon in zip(sf_data['latitudes'], sf_data['longitudes']):\n",
    "    x, y = latlon2mercator(lat, lon)\n",
    "    sf_data['x_coords'].append(x)\n",
    "    sf_data['y_coords'].append(y)"
   ]
  },
  {
   "cell_type": "code",
   "execution_count": 40,
   "id": "8caa45ce",
   "metadata": {},
   "outputs": [],
   "source": [
    "unique_ids = set()\n",
    "\n",
    "chicago_data = {\n",
    "    'latitudes': [],\n",
    "    'longitudes': [],\n",
    "    'x_coords': [],\n",
    "    'y_coords': [],\n",
    "    'labels': []\n",
    "}\n",
    "\n",
    "for i, venue in enumerate(chicago_venues_results):\n",
    "    items_list = venue['response']['groups'][0]['items']\n",
    "    for item in items_list:\n",
    "        item_id = item['venue']['id']\n",
    "        if item_id in unique_ids:\n",
    "            continue\n",
    "        else:\n",
    "            unique_ids.add(item_id)\n",
    "            chicago_data['latitudes'].append(item['venue']['location']['lat'])\n",
    "            chicago_data['longitudes'].append(item['venue']['location']['lng'])\n",
    "            chicago_data['labels'].append(item['venue']['categories'][0]['name'])\n",
    "\n",
    "for lat, lon in zip(chicago_data['latitudes'], chicago_data['longitudes']):\n",
    "    x, y = latlon2mercator(lat, lon)\n",
    "    chicago_data['x_coords'].append(x)\n",
    "    chicago_data['y_coords'].append(y)"
   ]
  },
  {
   "cell_type": "code",
   "execution_count": 49,
   "id": "66e4c8cf",
   "metadata": {},
   "outputs": [],
   "source": [
    "tile_provider = get_provider(OSM)\n",
    "sf_x, sf_y = latlon2mercator(sf_lat, sf_lon)\n",
    "# p = figure(x_range = (sf_x - 100, sf_x + 100), y_range= (sf_y - 100, sf_y + 100),\n",
    "#            x_axis_type = \"mercator\", y_axis_type = \"mercator\")\n",
    "p = figure(x_axis_type=\"mercator\", y_axis_type=\"mercator\")\n",
    "p.circle(x = 'x_coords', y = 'y_coords', source = sf_data)\n",
    "p.add_tile(tile_provider)\n",
    "show(p)"
   ]
  },
  {
   "cell_type": "code",
   "execution_count": 25,
   "id": "767b6f16",
   "metadata": {},
   "outputs": [],
   "source": [
    "tile_provider = get_provider(ESRI_IMAGERY)\n",
    "\n",
    "# range bounds supplied in web mercator coordinates\n",
    "p = figure(x_range=(-2000000, 6000000), y_range=(-1000000, 7000000),\n",
    "           x_axis_type=\"mercator\", y_axis_type=\"mercator\")\n",
    "p.add_tile(tile_provider)\n",
    "\n",
    "show(p)"
   ]
  },
  {
   "cell_type": "code",
   "execution_count": 50,
   "id": "725e5d5e",
   "metadata": {},
   "outputs": [],
   "source": [
    "def latlon2mercator(lat, lon):\n",
    "    r_earth = 6378137.000\n",
    "    x = r_earth * np.radians(lon)\n",
    "    scale = x/lon\n",
    "    y = 180.0/np.pi * np.log(np.tan(np.pi/4.0 + \n",
    "        lat * (np.pi/180.0)/2.0)) * scale\n",
    "    return (x, y)"
   ]
  },
  {
   "cell_type": "code",
   "execution_count": null,
   "id": "ae4417fa",
   "metadata": {},
   "outputs": [],
   "source": []
  }
 ],
 "metadata": {
  "kernelspec": {
   "display_name": "Python 3",
   "language": "python",
   "name": "python3"
  },
  "language_info": {
   "codemirror_mode": {
    "name": "ipython",
    "version": 3
   },
   "file_extension": ".py",
   "mimetype": "text/x-python",
   "name": "python",
   "nbconvert_exporter": "python",
   "pygments_lexer": "ipython3",
   "version": "3.9.5"
  }
 },
 "nbformat": 4,
 "nbformat_minor": 5
}
