{
 "cells": [
  {
   "cell_type": "code",
   "execution_count": 569,
   "id": "758320b0",
   "metadata": {},
   "outputs": [],
   "source": [
    "import numpy as np\n",
    "import pandas as pd\n",
    "import requests\n",
    "import json\n",
    "import folium\n",
    "from bs4 import BeautifulSoup\n",
    "from geopy.geocoders import Nominatim\n",
    "import time\n",
    "import math\n",
    "from bokeh.io import output_file, show\n",
    "from bokeh.plotting import figure\n",
    "from bokeh.models import ColumnDataSource, GeoJSONDataSource, HoverTool, Slider, CheckboxGroup \n",
    "from bokeh.models import CustomJS, CDSView\n",
    "from bokeh.models.filters import CustomJSFilter\n",
    "from bokeh.tile_providers import ESRI_IMAGERY, get_provider\n",
    "from bokeh.layouts import column, row\n",
    "import geopandas as gpd\n",
    "from pyproj import Transformer, CRS\n",
    "from shapely.ops import transform\n",
    "from scipy.optimize import minimize_scalar"
   ]
  },
  {
   "cell_type": "code",
   "execution_count": 14,
   "id": "c1ed2c71",
   "metadata": {},
   "outputs": [],
   "source": [
    "with open('variables/city_centers.json') as f_in:\n",
    "    city_centers = json.load(f_in)\n",
    "\n",
    "sf_lat = city_centers['sf'][0]\n",
    "sf_lon = city_centers['sf'][1]\n",
    "chicago_lat = city_centers['chicago'][0]\n",
    "chicago_lon = city_centers['chicago'][1]\n",
    "nyc_lat = city_centers['nyc'][0]\n",
    "nyc_lon = city_centers['nyc'][1]"
   ]
  },
  {
   "cell_type": "code",
   "execution_count": 2,
   "id": "e2a1cf09",
   "metadata": {},
   "outputs": [],
   "source": [
    "with open('json_data/sf_venues_results.json') as f_in: \n",
    "    sf_venues_results = json.load(f_in)\n",
    "with open('json_data/chicago_venues_results.json') as f_in:\n",
    "    chicago_venues_results = json.load(f_in)\n",
    "with open('json_data/nyc_venues_results.json') as f_in:\n",
    "    nyc_venues_results = json.load(f_in)"
   ]
  },
  {
   "cell_type": "code",
   "execution_count": 176,
   "id": "2cf1504e",
   "metadata": {},
   "outputs": [],
   "source": [
    "california = gpd.read_file('shape_data/california/california.shp')\n",
    "illinois = gpd.read_file('shape_data/illinois/illinois.shp')\n",
    "new_york = gpd.read_file('shape_data/new_york/new_york.shp')"
   ]
  },
  {
   "cell_type": "code",
   "execution_count": 177,
   "id": "cdf45278",
   "metadata": {},
   "outputs": [],
   "source": [
    "sf_shp = california[california['NAME'] == 'San Francisco']\n",
    "chicago_shp = illinois[illinois['NAME'] == 'Chicago']\n",
    "nyc_shp = new_york[new_york['NAME'] == 'New York']"
   ]
  },
  {
   "cell_type": "code",
   "execution_count": 250,
   "id": "af180af3",
   "metadata": {},
   "outputs": [],
   "source": [
    "crs_wgs = CRS(\"EPSG:4326\")\n",
    "crs_merc = CRS(\"EPSG:3785\")\n",
    "\n",
    "wgs2merc = Transformer.from_crs(crs_wgs, crs_merc) # Usage: wgs2merc.transform(lat, lon)\n",
    "merc2wgs = Transformer.from_crs(crs_merc, crs_wgs)"
   ]
  },
  {
   "cell_type": "code",
   "execution_count": 258,
   "id": "85e0d65a",
   "metadata": {},
   "outputs": [],
   "source": [
    "unique_ids = set()\n",
    "\n",
    "sf_data = {\n",
    "    'latitudes': [],\n",
    "    'longitudes': [],\n",
    "    'x_coords': [],\n",
    "    'y_coords': [],\n",
    "    'labels': []\n",
    "}\n",
    "\n",
    "for i, venue in enumerate(sf_venues_results):\n",
    "    items_list = venue['response']['groups'][0]['items']\n",
    "    for item in items_list:\n",
    "        item_id = item['venue']['id']\n",
    "        if item_id in unique_ids:\n",
    "            continue\n",
    "        else:\n",
    "            unique_ids.add(item_id)\n",
    "            sf_data['latitudes'].append(item['venue']['location']['lat'])\n",
    "            sf_data['longitudes'].append(item['venue']['location']['lng'])\n",
    "            sf_data['labels'].append(item['venue']['categories'][0]['name'])\n",
    "\n",
    "for lat, lon in zip(sf_data['latitudes'], sf_data['longitudes']):\n",
    "    x, y = wgs2merc.transform(lat, lon)\n",
    "    sf_data['x_coords'].append(x)\n",
    "    sf_data['y_coords'].append(y)"
   ]
  },
  {
   "cell_type": "code",
   "execution_count": 261,
   "id": "fbeb2782",
   "metadata": {},
   "outputs": [],
   "source": [
    "unique_ids = set()\n",
    "\n",
    "chicago_data = {\n",
    "    'latitudes': [],\n",
    "    'longitudes': [],\n",
    "    'x_coords': [],\n",
    "    'y_coords': [],\n",
    "    'labels': []\n",
    "}\n",
    "\n",
    "for i, venue in enumerate(chicago_venues_results):\n",
    "    items_list = venue['response']['groups'][0]['items']\n",
    "    for item in items_list:\n",
    "        item_id = item['venue']['id']\n",
    "        if item_id in unique_ids:\n",
    "            continue\n",
    "        else:\n",
    "            unique_ids.add(item_id)\n",
    "            chicago_data['latitudes'].append(item['venue']['location']['lat'])\n",
    "            chicago_data['longitudes'].append(item['venue']['location']['lng'])\n",
    "            chicago_data['labels'].append(item['venue']['categories'][0]['name'])\n",
    "\n",
    "for lat, lon in zip(chicago_data['latitudes'], chicago_data['longitudes']):\n",
    "    x, y = wgs2merc.transform(lat, lon)\n",
    "    chicago_data['x_coords'].append(x)\n",
    "    chicago_data['y_coords'].append(y)"
   ]
  },
  {
   "cell_type": "code",
   "execution_count": 262,
   "id": "25f40b32",
   "metadata": {},
   "outputs": [],
   "source": [
    "unique_ids = set()\n",
    "\n",
    "nyc_data = {\n",
    "    'latitudes': [],\n",
    "    'longitudes': [],\n",
    "    'x_coords': [],\n",
    "    'y_coords': [],\n",
    "    'labels': []\n",
    "}\n",
    "\n",
    "for i, venue in enumerate(nyc_venues_results):\n",
    "    items_list = venue['response']['groups'][0]['items']\n",
    "    for item in items_list:\n",
    "        item_id = item['venue']['id']\n",
    "        if item_id in unique_ids:\n",
    "            continue\n",
    "        else:\n",
    "            unique_ids.add(item_id)\n",
    "            nyc_data['latitudes'].append(item['venue']['location']['lat'])\n",
    "            nyc_data['longitudes'].append(item['venue']['location']['lng'])\n",
    "            nyc_data['labels'].append(item['venue']['categories'][0]['name'])\n",
    "\n",
    "for lat, lon in zip(nyc_data['latitudes'], nyc_data['longitudes']):\n",
    "    x, y = wgs2merc.transform(lat, lon)\n",
    "    nyc_data['x_coords'].append(x)\n",
    "    nyc_data['y_coords'].append(y)"
   ]
  },
  {
   "cell_type": "code",
   "execution_count": null,
   "id": "e3b711ed",
   "metadata": {},
   "outputs": [],
   "source": []
  },
  {
   "cell_type": "code",
   "execution_count": 269,
   "id": "01bb7ca9",
   "metadata": {},
   "outputs": [],
   "source": [
    "main_shape = sf_shp.iloc[0]['geometry'][3]"
   ]
  },
  {
   "cell_type": "code",
   "execution_count": 274,
   "id": "c1dbf4a0",
   "metadata": {},
   "outputs": [],
   "source": [
    "chicago_poly = {\n",
    "    'x': [],\n",
    "    'y': []\n",
    "}\n",
    "for point in chicago_shp.iloc[0]['geometry'].exterior.coords:\n",
    "    new_coords = wgs2merc.transform(point[1], point[0])\n",
    "    chicago_poly['x'].append(new_coords[0])\n",
    "    chicago_poly['y'].append(new_coords[1])"
   ]
  },
  {
   "cell_type": "code",
   "execution_count": 281,
   "id": "62e9932a",
   "metadata": {},
   "outputs": [
    {
     "data": {
      "text/plain": [
       "-9789447.263629049"
      ]
     },
     "execution_count": 281,
     "metadata": {},
     "output_type": "execute_result"
    }
   ],
   "source": [
    "chicago_poly['x'][0]"
   ]
  },
  {
   "cell_type": "markdown",
   "id": "f7eda698",
   "metadata": {},
   "source": [
    " "
   ]
  },
  {
   "cell_type": "markdown",
   "id": "9f5044f6",
   "metadata": {},
   "source": [
    " "
   ]
  },
  {
   "cell_type": "code",
   "execution_count": 160,
   "id": "305d2d60",
   "metadata": {},
   "outputs": [],
   "source": [
    "samp_x, samp_y = latlon2mercator(37.76, -122.44)"
   ]
  },
  {
   "cell_type": "code",
   "execution_count": 173,
   "id": "a553eb96",
   "metadata": {},
   "outputs": [],
   "source": [
    "tile_provider = get_provider(OSM)\n",
    "sf_x, sf_y = latlon2mercator(sf_lat, sf_lon)\n",
    "# p = figure(x_range = (sf_x - 100, sf_x + 100), y_range= (sf_y - 100, sf_y + 100),\n",
    "#            x_axis_type = \"mercator\", y_axis_type = \"mercator\")\n",
    "p = figure(x_axis_type=\"mercator\", y_axis_type=\"mercator\")\n",
    "p.circle(x = 'x_coords', y = 'y_coords', source = sf_data)\n",
    "p.annulus(x = samp_x, y = samp_y, inner_radius = 0, outer_radius = 2030.0, \n",
    "          fill_color = 'green', fill_alpha = 0.5, line_alpha = 0)\n",
    "p.annulus(x = samp_x + 800, y = samp_y, inner_radius = 0, outer_radius = 2030.0, \n",
    "          fill_color = 'green', fill_alpha = 0.5, line_alpha = 0)\n",
    "p.annulus(x = samp_x, y = samp_y + 800, inner_radius = 0, outer_radius = 2030.0, \n",
    "          fill_color = 'green', fill_alpha = 0.5, line_alpha = 0)\n",
    "p.annulus(x = samp_x + 800, y = samp_y + 800, inner_radius = 0, outer_radius = 2030.0, \n",
    "          fill_color = 'green', fill_alpha = 0.5, line_alpha = 0)\n",
    "p.add_tile(tile_provider)\n",
    "show(p)"
   ]
  },
  {
   "cell_type": "code",
   "execution_count": 25,
   "id": "f04bba20",
   "metadata": {},
   "outputs": [],
   "source": [
    "tile_provider = get_provider(ESRI_IMAGERY)\n",
    "\n",
    "# range bounds supplied in web mercator coordinates\n",
    "p = figure(x_range=(-2000000, 6000000), y_range=(-1000000, 7000000),\n",
    "           x_axis_type=\"mercator\", y_axis_type=\"mercator\")\n",
    "p.add_tile(tile_provider)\n",
    "\n",
    "show(p)"
   ]
  },
  {
   "cell_type": "code",
   "execution_count": 50,
   "id": "7ec7540b",
   "metadata": {},
   "outputs": [],
   "source": [
    "def latlon2mercator(lat, lon):\n",
    "    r_earth = 6378137.000\n",
    "    x = r_earth * np.radians(lon)\n",
    "    scale = x/lon\n",
    "    y = 180.0/np.pi * np.log(np.tan(np.pi/4.0 + \n",
    "        lat * (np.pi/180.0)/2.0)) * scale\n",
    "    return (x, y)"
   ]
  },
  {
   "cell_type": "code",
   "execution_count": 52,
   "id": "3a826a40",
   "metadata": {},
   "outputs": [],
   "source": [
    "def kil2mil(km):\n",
    "    return km * 0.621371"
   ]
  },
  {
   "cell_type": "code",
   "execution_count": 53,
   "id": "fde1990b",
   "metadata": {},
   "outputs": [],
   "source": [
    "# Returns (approximate) distance in kilometers or miles.\n",
    "def calc_dist_latlon(lat_1, lon_1, lat_2, lon_2, unit = 'km'):\n",
    "    r_earth = 6371 # avg radius of Earth in km\n",
    "    d_lat = np.radians(lat_2 - lat_1)\n",
    "    d_lon = np.radians(lon_2 - lon_1)\n",
    "    \n",
    "#     a = ((math.sin(d_lat/2))**2 + \n",
    "#          (math.sin(d_lon/2))**2 + \n",
    "#          (math.cos(deg2rad(lat_1)) * math.cos(deg2rad(lat_2))))\n",
    "    \n",
    "#     print(math.cos(deg2rad(lat_1)))\n",
    "#     print(math.cos(deg2rad(lat_2)))\n",
    "#     print(a)\n",
    "\n",
    "    a = ((math.sin(d_lat/2) * math.sin(d_lat/2)) + \n",
    "         (math.cos(np.radians(lat_1)) * math.cos(np.radians(lat_2)) * \n",
    "         math.sin(d_lon/2) * math.sin(d_lon/2)))\n",
    "    \n",
    "    c = 2 * math.atan2(math.sqrt(a), math.sqrt(1 - a))\n",
    "    d = r_earth * c\n",
    "    \n",
    "    if unit == 'km':\n",
    "        return d\n",
    "    elif unit == 'mi':\n",
    "        return kil2mil(d)\n",
    "    else:\n",
    "        print(\"Units not recognized.\")\n",
    "        return 0"
   ]
  },
  {
   "cell_type": "code",
   "execution_count": 54,
   "id": "8fffe443",
   "metadata": {},
   "outputs": [
    {
     "name": "stdout",
     "output_type": "stream",
     "text": [
      "41.658275\n",
      "-87.608822\n"
     ]
    }
   ],
   "source": [
    "print(chicago_data['latitudes'][0])\n",
    "print(chicago_data['longitudes'][0])"
   ]
  },
  {
   "cell_type": "code",
   "execution_count": 83,
   "id": "d8ad7220",
   "metadata": {},
   "outputs": [],
   "source": [
    "lat_1 = 41.66000\n",
    "lon_1 = -87.61\n",
    "lat_2 = 41.67446\n",
    "lon_2 = -87.61"
   ]
  },
  {
   "cell_type": "code",
   "execution_count": 84,
   "id": "af91a8ed",
   "metadata": {},
   "outputs": [
    {
     "data": {
      "text/plain": [
       "0.9990891579687212"
      ]
     },
     "execution_count": 84,
     "metadata": {},
     "output_type": "execute_result"
    }
   ],
   "source": [
    "calc_dist_latlon(lat_1, lon_1, lat_2, lon_2, 'mi')"
   ]
  },
  {
   "cell_type": "code",
   "execution_count": 87,
   "id": "581706a9",
   "metadata": {},
   "outputs": [
    {
     "name": "stdout",
     "output_type": "stream",
     "text": [
      "-2154.8057680875063\n"
     ]
    }
   ],
   "source": [
    "print(latlon2mercator(lat_1, lon_1)[1] - latlon2mercator(lat_2, lon_2)[1])"
   ]
  },
  {
   "cell_type": "code",
   "execution_count": 112,
   "id": "970a6d48",
   "metadata": {},
   "outputs": [],
   "source": [
    "lat_1 = 41.66\n",
    "lon_1 = -87.62936\n",
    "lat_2 = 41.66\n",
    "lon_2 = -87.61000"
   ]
  },
  {
   "cell_type": "code",
   "execution_count": 113,
   "id": "eb0935f4",
   "metadata": {},
   "outputs": [
    {
     "data": {
      "text/plain": [
       "0.9993588150024879"
      ]
     },
     "execution_count": 113,
     "metadata": {},
     "output_type": "execute_result"
    }
   ],
   "source": [
    "calc_dist_latlon(lat_1, lon_1, lat_2, lon_2, 'mi')"
   ]
  },
  {
   "cell_type": "code",
   "execution_count": 114,
   "id": "d8fdfe14",
   "metadata": {},
   "outputs": [
    {
     "name": "stdout",
     "output_type": "stream",
     "text": [
      "-2155.1453417595476\n"
     ]
    }
   ],
   "source": [
    "print(latlon2mercator(lat_1, lon_1)[0] - latlon2mercator(lat_2, lon_2)[0])"
   ]
  },
  {
   "cell_type": "code",
   "execution_count": 115,
   "id": "4507fa4d",
   "metadata": {},
   "outputs": [
    {
     "name": "stdout",
     "output_type": "stream",
     "text": [
      "37.71047\n",
      "-122.46752\n"
     ]
    }
   ],
   "source": [
    "print(sf_data['latitudes'][0])\n",
    "print(sf_data['longitudes'][0])"
   ]
  },
  {
   "cell_type": "code",
   "execution_count": 120,
   "id": "6882ad23",
   "metadata": {},
   "outputs": [],
   "source": [
    "lat_1 = 37.71\n",
    "lon_1 = -122.47\n",
    "lat_2 = 37.72446\n",
    "lon_2 = -122.47"
   ]
  },
  {
   "cell_type": "code",
   "execution_count": 121,
   "id": "63ff1c59",
   "metadata": {},
   "outputs": [
    {
     "data": {
      "text/plain": [
       "0.9990891579682302"
      ]
     },
     "execution_count": 121,
     "metadata": {},
     "output_type": "execute_result"
    }
   ],
   "source": [
    "calc_dist_latlon(lat_1, lon_1, lat_2, lon_2, 'mi')"
   ]
  },
  {
   "cell_type": "code",
   "execution_count": 122,
   "id": "9638d55a",
   "metadata": {},
   "outputs": [
    {
     "name": "stdout",
     "output_type": "stream",
     "text": [
      "-2034.8916148012504\n"
     ]
    }
   ],
   "source": [
    "print(latlon2mercator(lat_1, lon_1)[1] - latlon2mercator(lat_2, lon_2)[1])"
   ]
  },
  {
   "cell_type": "code",
   "execution_count": 154,
   "id": "43507d30",
   "metadata": {},
   "outputs": [],
   "source": [
    "lat_1 = 37.71\n",
    "lon_1 = -122.48830\n",
    "lat_2 = 37.71\n",
    "lon_2 = -122.47000"
   ]
  },
  {
   "cell_type": "code",
   "execution_count": 155,
   "id": "5f484d14",
   "metadata": {},
   "outputs": [
    {
     "data": {
      "text/plain": [
       "1.0002939531870083"
      ]
     },
     "execution_count": 155,
     "metadata": {},
     "output_type": "execute_result"
    }
   ],
   "source": [
    "calc_dist_latlon(lat_1, lon_1, lat_2, lon_2, 'mi')"
   ]
  },
  {
   "cell_type": "code",
   "execution_count": 156,
   "id": "64d4eece",
   "metadata": {},
   "outputs": [
    {
     "name": "stdout",
     "output_type": "stream",
     "text": [
      "-2037.1466815192252\n"
     ]
    }
   ],
   "source": [
    "print(latlon2mercator(lat_1, lon_1)[0] - latlon2mercator(lat_2, lon_2)[0])"
   ]
  },
  {
   "cell_type": "code",
   "execution_count": 245,
   "id": "173b182a",
   "metadata": {},
   "outputs": [],
   "source": [
    "# project = Transformer.from_proj(\n",
    "#     pyproj.Proj(init='epsg:4326'), # source coordinate system\n",
    "#     pyproj.Proj(init='epsg:3785')) # destination coordinate system\n",
    "\n",
    "crs_source = CRS(\"EPSG:4326\")\n",
    "crs_dest = CRS(\"EPSG:3785\")\n",
    "\n",
    "transformer = Transformer.from_crs(crs_source, crs_dest)"
   ]
  },
  {
   "cell_type": "code",
   "execution_count": 247,
   "id": "a9b83133",
   "metadata": {},
   "outputs": [
    {
     "name": "stdout",
     "output_type": "stream",
     "text": [
      "(-13638249.862361172, 4548510.400085907)\n"
     ]
    }
   ],
   "source": [
    "sf_polygon = sf_shp.iloc[0]['geometry']\n",
    "single_polygon = sf_polygon[3]\n",
    "len(single_polygon.interiors)\n",
    "for x in single_polygon.exterior.coords:\n",
    "    print(transformer.transform(x[1], x[0]))\n",
    "    break"
   ]
  },
  {
   "cell_type": "code",
   "execution_count": null,
   "id": "ce63bf92",
   "metadata": {},
   "outputs": [],
   "source": [
    "sf_geosource = GeoJSONDataSource(geojson = sf_shp.to_json())\n",
    "chicago_geosource = GeoJSONDataSource(geojson = chicago_shp.to_json())\n",
    "nyc_geosource = GeoJSONDataSource(geojson = nyc_shp.to_json())"
   ]
  },
  {
   "cell_type": "code",
   "execution_count": 259,
   "id": "7e5c8c5d",
   "metadata": {},
   "outputs": [],
   "source": [
    "p = figure(x_axis_type = \"mercator\", y_axis_type = \"mercator\")\n",
    "# p.patches('xs', 'ys', source = sf_geosource, alpha = 0.5, color = 'green')\n",
    "p.circle('x_coords', 'y_coords', source = sf_data)\n",
    "\n",
    "tile_provider = get_provider(OSM)\n",
    "p.add_tile(tile_provider)\n",
    "\n",
    "show(p)"
   ]
  },
  {
   "cell_type": "code",
   "execution_count": 427,
   "id": "9e1e75b3",
   "metadata": {},
   "outputs": [
    {
     "data": {
      "text/plain": [
       "1.0000154214520725"
      ]
     },
     "execution_count": 427,
     "metadata": {},
     "output_type": "execute_result"
    }
   ],
   "source": [
    "start_lat = chicago_data['latitudes'][0]\n",
    "start_lon = chicago_data['longitudes'][0]\n",
    "# new_lat = 41.6672682160591\n",
    "new_lat = 41.66726835474764\n",
    "new_lon = start_lon\n",
    "calc_dist_latlon(start_lat, start_lon, new_lat, new_lon)"
   ]
  },
  {
   "cell_type": "code",
   "execution_count": 425,
   "id": "94fafea9",
   "metadata": {},
   "outputs": [],
   "source": [
    "def tmp_func(x):\n",
    "    return abs(calc_dist_latlon(start_lat, start_lon, x, start_lon) - 1)"
   ]
  },
  {
   "cell_type": "code",
   "execution_count": 417,
   "id": "9995ff39",
   "metadata": {},
   "outputs": [
    {
     "name": "stdout",
     "output_type": "stream",
     "text": [
      "0.9999660923444551\n",
      "1.0130674077402091e-11\n"
     ]
    }
   ],
   "source": [
    "print(tmp_func(41.658275304938876))\n",
    "print(tmp_func(41.6672682160591))"
   ]
  },
  {
   "cell_type": "code",
   "execution_count": 428,
   "id": "b2c9a87f",
   "metadata": {},
   "outputs": [],
   "source": [
    "chicago_min = minimize_scalar(tmp_func, method = 'bounded', bounds = (start_lat, start_lat + 10))"
   ]
  },
  {
   "cell_type": "code",
   "execution_count": 486,
   "id": "4a8cfab2",
   "metadata": {},
   "outputs": [],
   "source": [
    "def find_a_mile(start_lat, start_lon, var):\n",
    "    if var == 'lat':\n",
    "        func_to_opt = lambda x: abs(calc_dist_latlon(start_lat, start_lon, x, start_lon, 'mi') - 1)\n",
    "        bounds = (start_lat, start_lat + 10)\n",
    "    elif var == 'lon':\n",
    "        func_to_opt = lambda x: abs(calc_dist_latlon(start_lat, start_lon, start_lat, x, 'mi') - 1)\n",
    "        bounds = (start_lon, start_lon + 10)\n",
    "    else:\n",
    "        print('Specify which variable to optimize')\n",
    "        return\n",
    "    \n",
    "    optimized = minimize_scalar(func_to_opt, method = 'bounded', bounds = bounds)\n",
    "    \n",
    "    if var == 'lat':\n",
    "        new_lat = optimized.x\n",
    "        new_lon = start_lon\n",
    "        axis = 1\n",
    "    else:\n",
    "        new_lat = start_lat\n",
    "        new_lon = optimized.x\n",
    "        axis = 0\n",
    "    \n",
    "    difference = wgs2merc.transform(start_lat, start_lon)[axis] - wgs2merc.transform(new_lat, new_lon)[axis]\n",
    "    return int(abs(difference))"
   ]
  },
  {
   "cell_type": "code",
   "execution_count": 487,
   "id": "f59b7db1",
   "metadata": {},
   "outputs": [],
   "source": [
    "dist_1 = find_a_mile(chicago_data['latitudes'][0], chicago_data['longitudes'][0], 'lat')\n",
    "dist_2 = find_a_mile(chicago_data['latitudes'][0], chicago_data['longitudes'][0], 'lon')\n",
    "dist_3 = find_a_mile(chicago_data['latitudes'][-1], chicago_data['longitudes'][-1], 'lat')\n",
    "dist_4 = find_a_mile(chicago_data['latitudes'][-1], chicago_data['longitudes'][-1], 'lon')\n",
    "\n",
    "avg_dist_chicago = (dist_1 + dist_2 + dist_3 + dist_4) / 4"
   ]
  },
  {
   "cell_type": "code",
   "execution_count": 488,
   "id": "d3b686cf",
   "metadata": {},
   "outputs": [],
   "source": [
    "dist_1 = find_a_mile(sf_data['latitudes'][0], sf_data['longitudes'][0], 'lat')\n",
    "dist_2 = find_a_mile(sf_data['latitudes'][0], sf_data['longitudes'][0], 'lon')\n",
    "dist_3 = find_a_mile(sf_data['latitudes'][-1], sf_data['longitudes'][-1], 'lat')\n",
    "dist_4 = find_a_mile(sf_data['latitudes'][-1], sf_data['longitudes'][-1], 'lon')\n",
    "\n",
    "# print(dist_1, dist_2, dist_3, dist_4)\n",
    "\n",
    "avg_dist_sf = (dist_1 + dist_2 + dist_3 + dist_4) / 4"
   ]
  },
  {
   "cell_type": "code",
   "execution_count": 489,
   "id": "4dba606a",
   "metadata": {},
   "outputs": [],
   "source": [
    "dist_1 = find_a_mile(nyc_data['latitudes'][0], nyc_data['longitudes'][0], 'lat')\n",
    "dist_2 = find_a_mile(nyc_data['latitudes'][0], nyc_data['longitudes'][0], 'lon')\n",
    "dist_3 = find_a_mile(nyc_data['latitudes'][-1], nyc_data['longitudes'][-1], 'lat')\n",
    "dist_4 = find_a_mile(nyc_data['latitudes'][-1], nyc_data['longitudes'][-1], 'lon')\n",
    "\n",
    "# print(dist_1, dist_2, dist_3, dist_4)\n",
    "\n",
    "avg_dist_nyc = (dist_1 + dist_2 + dist_3 + dist_4) / 4"
   ]
  },
  {
   "cell_type": "code",
   "execution_count": 490,
   "id": "0075f27b",
   "metadata": {},
   "outputs": [
    {
     "name": "stdout",
     "output_type": "stream",
     "text": [
      "2161.5\n"
     ]
    }
   ],
   "source": [
    "print(avg_dist_chicago)"
   ]
  },
  {
   "cell_type": "code",
   "execution_count": 477,
   "id": "8c9fbc09",
   "metadata": {},
   "outputs": [],
   "source": [
    "p = figure(x_axis_type = \"mercator\", y_axis_type = \"mercator\")\n",
    "# p.patches('xs', 'ys', source = nyc_geosource, alpha = 0.5, color = 'green')\n",
    "p.circle('x_coords', 'y_coords', source = sf_data)\n",
    "\n",
    "tile_provider = get_provider(OSM)\n",
    "p.add_tile(tile_provider)\n",
    "\n",
    "p_annulus = p.annulus(x = 'x_coords', y = 'y_coords', source = sf_data, \n",
    "                      inner_radius = 0, outer_radius = avg_dist_sf, \n",
    "                      fill_color = 'gray', fill_alpha = 0.5, line_alpha = 0)\n",
    "\n",
    "slider = Slider(start = 0, end = 1, step = 0.01, value = 0.5)\n",
    "slider.js_on_change('value',\n",
    "    CustomJS(args=dict(other = p_annulus.glyph, factor = avg_dist_sf),\n",
    "             code=\"other.outer_radius = factor * this.value\"))\n",
    "\n",
    "\n",
    "show(column(p, slider))"
   ]
  },
  {
   "cell_type": "code",
   "execution_count": 481,
   "id": "204e9266",
   "metadata": {},
   "outputs": [],
   "source": [
    "p = figure(x_axis_type = \"mercator\", y_axis_type = \"mercator\")\n",
    "p.patch('x', 'y', source = chicago_poly, alpha = 0.5, color = 'green')\n",
    "p.circle('x_coords', 'y_coords', source = chicago_data)\n",
    "\n",
    "tile_provider = get_provider(OSM)\n",
    "p.add_tile(tile_provider)\n",
    "\n",
    "p_annulus = p.annulus(x = 'x_coords', y = 'y_coords', source = chicago_data, \n",
    "                      inner_radius = 0, outer_radius = avg_dist_chicago, \n",
    "                      fill_color = 'gray', fill_alpha = 0.5, line_alpha = 0)\n",
    "\n",
    "slider = Slider(start = 0, end = 1, step = 0.01, value = 0.5)\n",
    "# slider.js_link('value', p_annulus.glyph, 'outer_radius')\n",
    "slider.js_on_change('value',\n",
    "    CustomJS(args=dict(other = p_annulus.glyph, factor = avg_dist_chicago),\n",
    "             code=\"other.outer_radius = factor * this.value\"))\n",
    "\n",
    "labels = [\"Grocery Store\", \n",
    "          \"Liquor Store\", \n",
    "          \"Supermarket\",\n",
    "          \"Food & Drink Shop\"]\n",
    "checkbox_group = CheckboxGroup(labels = labels, active = [0])\n",
    "\n",
    "# p.add_tools(HoverTool())\n",
    "\n",
    "show(column(p, checkbox_group, slider))"
   ]
  },
  {
   "cell_type": "code",
   "execution_count": 476,
   "id": "dc0a6064",
   "metadata": {},
   "outputs": [],
   "source": [
    "p = figure(x_axis_type = \"mercator\", y_axis_type = \"mercator\")\n",
    "# p.patches('xs', 'ys', source = nyc_geosource, alpha = 0.5, color = 'green')\n",
    "p.circle('x_coords', 'y_coords', source = nyc_data)\n",
    "\n",
    "tile_provider = get_provider(OSM)\n",
    "p.add_tile(tile_provider)\n",
    "\n",
    "p_annulus = p.annulus(x = 'x_coords', y = 'y_coords', source = nyc_data, \n",
    "                      inner_radius = 0, outer_radius = avg_dist_nyc, \n",
    "                      fill_color = 'gray', fill_alpha = 0.5, line_alpha = 0)\n",
    "\n",
    "slider = Slider(start = 0, end = 1, step = 0.01, value = 0.5)\n",
    "slider.js_on_change('value',\n",
    "    CustomJS(args=dict(other = p_annulus.glyph, factor = avg_dist_nyc),\n",
    "             code=\"other.outer_radius = factor * this.value\"))\n",
    "\n",
    "\n",
    "show(column(p, slider))"
   ]
  },
  {
   "cell_type": "code",
   "execution_count": null,
   "id": "b0639ad1",
   "metadata": {},
   "outputs": [],
   "source": []
  },
  {
   "cell_type": "code",
   "execution_count": 505,
   "id": "ab40837b",
   "metadata": {},
   "outputs": [
    {
     "data": {
      "text/plain": [
       "'Dollar Tree'"
      ]
     },
     "execution_count": 505,
     "metadata": {},
     "output_type": "execute_result"
    }
   ],
   "source": [
    "sf_venues_results[3]['response']['groups'][0]['items'][0]['venue']['name']"
   ]
  },
  {
   "cell_type": "code",
   "execution_count": 552,
   "id": "6c9506ca",
   "metadata": {},
   "outputs": [],
   "source": [
    "def find_avg_city_mile(city_data):\n",
    "    dist_1 = find_a_mile(city_data['latitudes'][0], city_data['longitudes'][0], 'lat')\n",
    "    dist_2 = find_a_mile(city_data['latitudes'][0], city_data['longitudes'][0], 'lon')\n",
    "    dist_3 = find_a_mile(city_data['latitudes'][-1], city_data['longitudes'][-1], 'lat')\n",
    "    dist_4 = find_a_mile(city_data['latitudes'][-1], city_data['longitudes'][-1], 'lon')\n",
    "\n",
    "    return (dist_1 + dist_2 + dist_3 + dist_4) / 4"
   ]
  },
  {
   "cell_type": "code",
   "execution_count": 551,
   "id": "e098aae5",
   "metadata": {},
   "outputs": [],
   "source": [
    "def make_dataset(city_venues_results, categories_list):\n",
    "    \n",
    "    unique_ids = set()\n",
    "\n",
    "    city_data = {\n",
    "        'latitudes': [],\n",
    "        'longitudes': [],\n",
    "        'x_coords': [],\n",
    "        'y_coords': [],\n",
    "        'categories': [],\n",
    "        'names': []\n",
    "    }\n",
    "\n",
    "    for i, venue in enumerate(city_venues_results):\n",
    "        items_list = venue['response']['groups'][0]['items']\n",
    "        for item in items_list:\n",
    "            item_id = item['venue']['id']\n",
    "            item_category = item['venue']['categories'][0]['name']\n",
    "            if item_id in unique_ids or item_category not in categories_list:\n",
    "                continue\n",
    "            else:\n",
    "                unique_ids.add(item_id)\n",
    "                city_data['categories'].append(item_category)\n",
    "                city_data['latitudes'].append(item['venue']['location']['lat'])\n",
    "                city_data['longitudes'].append(item['venue']['location']['lng'])\n",
    "                city_data['names'].append(item['venue']['name'])\n",
    "\n",
    "    for lat, lon in zip(city_data['latitudes'], city_data['longitudes']):\n",
    "        x, y = wgs2merc.transform(lat, lon)\n",
    "        city_data['x_coords'].append(x)\n",
    "        city_data['y_coords'].append(y)\n",
    "    \n",
    "    return ColumnDataSource(city_data), city_data"
   ]
  },
  {
   "cell_type": "code",
   "execution_count": 547,
   "id": "1f9b5b6f",
   "metadata": {},
   "outputs": [],
   "source": [
    "def style(p):\n",
    "    \n",
    "    return p"
   ]
  },
  {
   "cell_type": "code",
   "execution_count": 581,
   "id": "1305bf66",
   "metadata": {},
   "outputs": [],
   "source": [
    "def make_plot(src_cds, src, city_nickname):\n",
    "    p = figure(x_axis_type = \"mercator\", y_axis_type = \"mercator\")\n",
    "    \n",
    "    p.patch('x', 'y', source = city_polygons[city_nickname], alpha = 0.5, color = 'green')\n",
    "    \n",
    "    tile_provider = get_provider(OSM)\n",
    "    p.add_tile(tile_provider)\n",
    "    \n",
    "    p = style(p)\n",
    "    \n",
    "    return p"
   ]
  },
  {
   "cell_type": "code",
   "execution_count": 589,
   "id": "8c0564a1",
   "metadata": {},
   "outputs": [],
   "source": [
    "def plot_city(city_nickname):\n",
    "    categories_list = [\n",
    "        'Grocery Store',\n",
    "        'Liquor Store',\n",
    "        'Supermarket',\n",
    "        'Food & Drink Shop'\n",
    "    ]\n",
    "    \n",
    "    src_cds, src = make_dataset(venues_results[city_nickname], categories_list)\n",
    "    p = make_plot(src_cds, src, city_nickname)\n",
    "    \n",
    "    avg_city_mile = find_avg_city_mile(src)\n",
    "    \n",
    "    slider = Slider(start = 0, end = 1, step = 0.01, value = 0.5)\n",
    "    \n",
    "    category_selection = CheckboxGroup(labels = categories_list, active = [0])\n",
    "    category_selection.js_on_change(\"active\", \n",
    "                                        CustomJS(code=\"src.change.emit();\", args=dict(src=src_cds)))\n",
    "    \n",
    "    category_filter =  CustomJSFilter(code=\"\"\"\n",
    "    let selected = checkboxes.active.map(i=>checkboxes.labels[i]);\n",
    "    let indices = [];\n",
    "    let column = src.data.categories;\n",
    "    for(let i=0; i<column.length; i++){\n",
    "        if(selected.includes(column[i])){\n",
    "            indices.push(i);\n",
    "        }\n",
    "    }\n",
    "    return indices;\n",
    "    \"\"\", args=dict(checkboxes=category_selection, src=src_cds))\n",
    "    \n",
    "    p.circle('x_coords', 'y_coords', source = src_cds,\n",
    "             view = CDSView(source = src_cds, filters = [category_filter]))\n",
    "    \n",
    "    p_annulus = p.annulus(x = 'x_coords', y = 'y_coords', source = src_cds, \n",
    "                          inner_radius = 0, outer_radius = avg_city_mile, \n",
    "                          fill_color = 'gray', fill_alpha = 0.5, line_alpha = 0,\n",
    "                          view = CDSView(source = src_cds, filters = [category_filter]))\n",
    "    \n",
    "    slider.js_on_change('value',\n",
    "        CustomJS(args=dict(other = p_annulus.glyph, factor = avg_city_mile),\n",
    "                 code=\"other.outer_radius = factor * this.value\"))\n",
    "    \n",
    "    show(column(p, category_selection, slider))\n",
    "    \n",
    "    return"
   ]
  },
  {
   "cell_type": "code",
   "execution_count": 590,
   "id": "cb05aec5",
   "metadata": {},
   "outputs": [],
   "source": [
    "plot_city('chicago')"
   ]
  },
  {
   "cell_type": "code",
   "execution_count": null,
   "id": "3a31a6d8",
   "metadata": {},
   "outputs": [],
   "source": []
  },
  {
   "cell_type": "code",
   "execution_count": 537,
   "id": "1c6dab47",
   "metadata": {},
   "outputs": [],
   "source": [
    "venues_results = {\n",
    "    'sf': sf_venues_results,\n",
    "    'chicago': chicago_venues_results,\n",
    "    'nyc': nyc_venues_results\n",
    "}\n",
    "\n",
    "city_polygons = {\n",
    "    'chicago': chicago_poly\n",
    "}"
   ]
  },
  {
   "cell_type": "code",
   "execution_count": 532,
   "id": "a4c07978",
   "metadata": {},
   "outputs": [
    {
     "name": "stdout",
     "output_type": "stream",
     "text": [
      "[('Grocery Store', 1508), ('Liquor Store', 1189), ('Supermarket', 569), ('Wine Shop', 524), ('Food & Drink Shop', 372)]\n"
     ]
    }
   ],
   "source": [
    "nyc_data_cds, nyc_data = make_dataset(nyc_venues_results)\n",
    "\n",
    "labels_dict = {}\n",
    "\n",
    "for label in nyc_data['categories']:\n",
    "    if label not in labels_dict:\n",
    "        labels_dict[label] = 0\n",
    "    labels_dict[label] += 1\n",
    "\n",
    "labels_list = list(labels_dict.items())\n",
    "sorted_labels = sorted(labels_list, key = lambda x: x[1], reverse = True)\n",
    "print(sorted_labels[:5])"
   ]
  },
  {
   "cell_type": "code",
   "execution_count": 307,
   "id": "8b923edc",
   "metadata": {},
   "outputs": [],
   "source": [
    "def gen_circle(radius, center, num_points = 75):\n",
    "    data = {\n",
    "        'x': [],\n",
    "        'y': []\n",
    "    }\n",
    "    for i in range(num_points):\n",
    "        angle = 2 * math.pi * i / num_points\n",
    "        data['x'].append(center[0] + (radius * math.cos(angle)))\n",
    "        data['y'].append(center[1] + (radius * math.sin(angle)))\n",
    "        \n",
    "    return data"
   ]
  },
  {
   "cell_type": "code",
   "execution_count": 315,
   "id": "a69d027d",
   "metadata": {},
   "outputs": [],
   "source": [
    "square_data = {\n",
    "    'x': [-2, 7, 7, -2],\n",
    "    'y': [5, 5, -6, -6]\n",
    "}\n",
    "\n",
    "circle_1_data = gen_circle(2, (1, 2))\n",
    "circle_2_data = gen_circle(2, (4.5, 0))\n",
    "circle_3_data = gen_circle(2, (3, 2))\n",
    "\n",
    "p = figure()\n",
    "\n",
    "# p.patch('x', 'y', source = circle_1_data, color = 'green')\n",
    "# p.patch('x', 'y', source = circle_2_data, color = 'green')\n",
    "# p.patch('x', 'y', source = square_data, color = 'blue', alpha = 0.5)\n",
    "\n",
    "p.multi_polygons(xs = [[[ square_data['x'], circle_1_data['x'], circle_2_data['x'], circle_3_data['x'] ]]],\n",
    "                 ys = [[[ square_data['y'], circle_1_data['y'], circle_2_data['y'], circle_3_data['y'] ]]])\n",
    "\n",
    "show(p)"
   ]
  },
  {
   "cell_type": "code",
   "execution_count": 324,
   "id": "f40d5a74",
   "metadata": {},
   "outputs": [],
   "source": [
    "square_data = {\n",
    "    'x': [-5, 8, 8, -5],\n",
    "    'y': [4, 4, -9, -9]\n",
    "}\n",
    "\n",
    "circle_1_data = gen_circle(3, (-0.5, -2))\n",
    "circle_2_data = gen_circle(3, (3.5, -2))\n",
    "\n",
    "circle_2_cut = {\n",
    "    'x': [],\n",
    "    'y': []\n",
    "}\n",
    "\n",
    "for x, y in zip(circle_2_data['x'], circle_2_data['y']):\n",
    "    if x < 1.5:\n",
    "        pass\n",
    "    else:\n",
    "        circle_2_cut['x'].append(x)\n",
    "        circle_2_cut['y'].append(y)\n",
    "\n",
    "p = figure()\n",
    "\n",
    "p.multi_polygons(xs = [[[ square_data['x'], circle_1_data['x'], circle_2_cut['x'] ]]],\n",
    "                 ys = [[[ square_data['y'], circle_1_data['y'], circle_2_cut['y'] ]]])\n",
    "\n",
    "show(p)"
   ]
  },
  {
   "cell_type": "code",
   "execution_count": 580,
   "id": "e2147dce",
   "metadata": {},
   "outputs": [],
   "source": [
    "from bokeh.sampledata import iris\n",
    "from bokeh.transform import factor_cmap\n",
    "from bokeh.palettes import Category10_10\n",
    "\n",
    "source = ColumnDataSource(data=iris.flowers)\n",
    "species = iris.flowers.species.unique().tolist()\n",
    "checkboxes = CheckboxGroup(labels=species, active=list(range(len(species))))\n",
    "fig = figure()\n",
    "iris_filter =  CustomJSFilter(code=\"\"\"\n",
    "let selected = checkboxes.active.map(i=>checkboxes.labels[i]);\n",
    "let indices = [];\n",
    "let column = src.data.species;\n",
    "for(let i=0; i<column.length; i++){\n",
    "    if(selected.includes(column[i])){\n",
    "        indices.push(i);\n",
    "    }\n",
    "}\n",
    "return indices;\n",
    "\"\"\", args=dict(checkboxes=checkboxes, src=source))\n",
    "\n",
    "checkboxes.js_on_change(\"active\", CustomJS(code=\"src.change.emit();\", args=dict(src=source)))\n",
    "\n",
    "fig.scatter(\"sepal_length\", \"sepal_width\", \n",
    "            color=factor_cmap(\"species\", Category10_10, species),\n",
    "            source=source, view=CDSView(source=source, filters=[iris_filter]))\n",
    "fig.annulus(\"sepal_length\", \"sepal_width\", inner_radius = 0, outer_radius = 0.1,\n",
    "          source = source, view=CDSView(source = source, filters = [iris_filter]))\n",
    "show(row(checkboxes, fig))"
   ]
  },
  {
   "cell_type": "code",
   "execution_count": 574,
   "id": "f92ec718",
   "metadata": {},
   "outputs": [
    {
     "data": {
      "text/plain": [
       "dict_keys(['index', 'sepal_length', 'sepal_width', 'petal_length', 'petal_width', 'species'])"
      ]
     },
     "execution_count": 574,
     "metadata": {},
     "output_type": "execute_result"
    }
   ],
   "source": [
    "source.data.keys()"
   ]
  },
  {
   "cell_type": "code",
   "execution_count": null,
   "id": "718686ba",
   "metadata": {},
   "outputs": [],
   "source": []
  }
 ],
 "metadata": {
  "kernelspec": {
   "display_name": "Python 3",
   "language": "python",
   "name": "python3"
  },
  "language_info": {
   "codemirror_mode": {
    "name": "ipython",
    "version": 3
   },
   "file_extension": ".py",
   "mimetype": "text/x-python",
   "name": "python",
   "nbconvert_exporter": "python",
   "pygments_lexer": "ipython3",
   "version": "3.9.5"
  }
 },
 "nbformat": 4,
 "nbformat_minor": 5
}
